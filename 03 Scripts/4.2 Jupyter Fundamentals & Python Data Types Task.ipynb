{
 "cells": [
  {
   "cell_type": "markdown",
   "id": "664a6f71",
   "metadata": {},
   "source": [
    "# 01. Importing libraries"
   ]
  },
  {
   "cell_type": "code",
   "execution_count": 2,
   "id": "9c3992b9",
   "metadata": {},
   "outputs": [],
   "source": [
    "# Import libraries\n",
    "import pandas as pd\n",
    "import numpy as np\n",
    "import os"
   ]
  },
  {
   "cell_type": "markdown",
   "id": "e99620c9",
   "metadata": {},
   "source": [
    "# 02. Python Data types"
   ]
  },
  {
   "cell_type": "code",
   "execution_count": 3,
   "id": "b0d8a072",
   "metadata": {},
   "outputs": [],
   "source": [
    "x = 50"
   ]
  },
  {
   "cell_type": "code",
   "execution_count": 4,
   "id": "84fccb41",
   "metadata": {},
   "outputs": [
    {
     "data": {
      "text/plain": [
       "int"
      ]
     },
     "execution_count": 4,
     "metadata": {},
     "output_type": "execute_result"
    }
   ],
   "source": [
    "type(x)"
   ]
  },
  {
   "cell_type": "code",
   "execution_count": 5,
   "id": "2d0eafc8",
   "metadata": {},
   "outputs": [
    {
     "data": {
      "text/plain": [
       "100"
      ]
     },
     "execution_count": 5,
     "metadata": {},
     "output_type": "execute_result"
    }
   ],
   "source": [
    "x + x"
   ]
  },
  {
   "cell_type": "code",
   "execution_count": 6,
   "id": "d094bc56",
   "metadata": {},
   "outputs": [],
   "source": [
    "y = 150"
   ]
  },
  {
   "cell_type": "code",
   "execution_count": 7,
   "id": "ee943e7d",
   "metadata": {},
   "outputs": [
    {
     "data": {
      "text/plain": [
       "int"
      ]
     },
     "execution_count": 7,
     "metadata": {},
     "output_type": "execute_result"
    }
   ],
   "source": [
    "type(y)"
   ]
  },
  {
   "cell_type": "code",
   "execution_count": 8,
   "id": "e072de79",
   "metadata": {},
   "outputs": [
    {
     "data": {
      "text/plain": [
       "100"
      ]
     },
     "execution_count": 8,
     "metadata": {},
     "output_type": "execute_result"
    }
   ],
   "source": [
    "y - x"
   ]
  },
  {
   "cell_type": "code",
   "execution_count": 9,
   "id": "7b230bba",
   "metadata": {},
   "outputs": [],
   "source": [
    "z = 200"
   ]
  },
  {
   "cell_type": "code",
   "execution_count": 10,
   "id": "a788e0cb",
   "metadata": {},
   "outputs": [
    {
     "data": {
      "text/plain": [
       "int"
      ]
     },
     "execution_count": 10,
     "metadata": {},
     "output_type": "execute_result"
    }
   ],
   "source": [
    "type(z)"
   ]
  },
  {
   "cell_type": "code",
   "execution_count": 11,
   "id": "d05f305a",
   "metadata": {},
   "outputs": [
    {
     "data": {
      "text/plain": [
       "100"
      ]
     },
     "execution_count": 11,
     "metadata": {},
     "output_type": "execute_result"
    }
   ],
   "source": [
    "z - y + x"
   ]
  },
  {
   "cell_type": "code",
   "execution_count": 12,
   "id": "fd5e4b23",
   "metadata": {},
   "outputs": [],
   "source": [
    "a = 10.123"
   ]
  },
  {
   "cell_type": "code",
   "execution_count": 13,
   "id": "4b5ea667",
   "metadata": {},
   "outputs": [
    {
     "data": {
      "text/plain": [
       "float"
      ]
     },
     "execution_count": 13,
     "metadata": {},
     "output_type": "execute_result"
    }
   ],
   "source": [
    "type(a)"
   ]
  },
  {
   "cell_type": "code",
   "execution_count": 14,
   "id": "d33fa379",
   "metadata": {},
   "outputs": [],
   "source": [
    "b = 5.123"
   ]
  },
  {
   "cell_type": "code",
   "execution_count": 15,
   "id": "8e207295",
   "metadata": {},
   "outputs": [
    {
     "data": {
      "text/plain": [
       "float"
      ]
     },
     "execution_count": 15,
     "metadata": {},
     "output_type": "execute_result"
    }
   ],
   "source": [
    "type(b)"
   ]
  },
  {
   "cell_type": "code",
   "execution_count": 16,
   "id": "df1bbd16",
   "metadata": {},
   "outputs": [
    {
     "data": {
      "text/plain": [
       "1.975990630489947"
      ]
     },
     "execution_count": 16,
     "metadata": {},
     "output_type": "execute_result"
    }
   ],
   "source": [
    "a / b"
   ]
  },
  {
   "cell_type": "code",
   "execution_count": 17,
   "id": "759cbe38",
   "metadata": {},
   "outputs": [],
   "source": [
    "c = 'base'"
   ]
  },
  {
   "cell_type": "code",
   "execution_count": 18,
   "id": "68c03eb7",
   "metadata": {},
   "outputs": [
    {
     "data": {
      "text/plain": [
       "str"
      ]
     },
     "execution_count": 18,
     "metadata": {},
     "output_type": "execute_result"
    }
   ],
   "source": [
    "type(c)"
   ]
  },
  {
   "cell_type": "code",
   "execution_count": 19,
   "id": "53ff0382",
   "metadata": {},
   "outputs": [],
   "source": [
    "d = 'ball'"
   ]
  },
  {
   "cell_type": "code",
   "execution_count": 20,
   "id": "92ee62ec",
   "metadata": {},
   "outputs": [
    {
     "data": {
      "text/plain": [
       "str"
      ]
     },
     "execution_count": 20,
     "metadata": {},
     "output_type": "execute_result"
    }
   ],
   "source": [
    "type(d)"
   ]
  },
  {
   "cell_type": "code",
   "execution_count": 21,
   "id": "a09cdde5",
   "metadata": {},
   "outputs": [
    {
     "data": {
      "text/plain": [
       "'baseball'"
      ]
     },
     "execution_count": 21,
     "metadata": {},
     "output_type": "execute_result"
    }
   ],
   "source": [
    "c + d"
   ]
  },
  {
   "cell_type": "code",
   "execution_count": 22,
   "id": "6017204b",
   "metadata": {},
   "outputs": [],
   "source": [
    "e = \"I\""
   ]
  },
  {
   "cell_type": "code",
   "execution_count": 23,
   "id": "ced8f21a",
   "metadata": {},
   "outputs": [
    {
     "data": {
      "text/plain": [
       "str"
      ]
     },
     "execution_count": 23,
     "metadata": {},
     "output_type": "execute_result"
    }
   ],
   "source": [
    "type(e)"
   ]
  },
  {
   "cell_type": "code",
   "execution_count": 24,
   "id": "4e11204a",
   "metadata": {},
   "outputs": [],
   "source": [
    "f = \" love \""
   ]
  },
  {
   "cell_type": "code",
   "execution_count": 25,
   "id": "16537dee",
   "metadata": {},
   "outputs": [
    {
     "data": {
      "text/plain": [
       "'I love baseball'"
      ]
     },
     "execution_count": 25,
     "metadata": {},
     "output_type": "execute_result"
    }
   ],
   "source": [
    "e + f + c + d"
   ]
  },
  {
   "cell_type": "code",
   "execution_count": 26,
   "id": "9258a543",
   "metadata": {},
   "outputs": [],
   "source": [
    "g = \" to \""
   ]
  },
  {
   "cell_type": "code",
   "execution_count": 27,
   "id": "5a502f79",
   "metadata": {},
   "outputs": [],
   "source": [
    "h = \" eat\""
   ]
  },
  {
   "cell_type": "code",
   "execution_count": 28,
   "id": "7679fcb7",
   "metadata": {},
   "outputs": [
    {
     "data": {
      "text/plain": [
       "'I love  to  eat'"
      ]
     },
     "execution_count": 28,
     "metadata": {},
     "output_type": "execute_result"
    }
   ],
   "source": [
    "e + f + g + h"
   ]
  },
  {
   "cell_type": "code",
   "execution_count": 29,
   "id": "692d3098",
   "metadata": {},
   "outputs": [],
   "source": [
    "g = 'to '"
   ]
  },
  {
   "cell_type": "code",
   "execution_count": 30,
   "id": "6750f8b0",
   "metadata": {},
   "outputs": [],
   "source": [
    "h = 'eat'"
   ]
  },
  {
   "cell_type": "code",
   "execution_count": 31,
   "id": "940c2e0f",
   "metadata": {},
   "outputs": [
    {
     "data": {
      "text/plain": [
       "'I love to eat'"
      ]
     },
     "execution_count": 31,
     "metadata": {},
     "output_type": "execute_result"
    }
   ],
   "source": [
    "e + f + g + h"
   ]
  },
  {
   "cell_type": "code",
   "execution_count": null,
   "id": "82bebbf9",
   "metadata": {},
   "outputs": [],
   "source": []
  }
 ],
 "metadata": {
  "kernelspec": {
   "display_name": "Python 3 (ipykernel)",
   "language": "python",
   "name": "python3"
  },
  "language_info": {
   "codemirror_mode": {
    "name": "ipython",
    "version": 3
   },
   "file_extension": ".py",
   "mimetype": "text/x-python",
   "name": "python",
   "nbconvert_exporter": "python",
   "pygments_lexer": "ipython3",
   "version": "3.9.7"
  }
 },
 "nbformat": 4,
 "nbformat_minor": 5
}
