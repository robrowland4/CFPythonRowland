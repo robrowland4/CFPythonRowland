{
 "cells": [
  {
   "cell_type": "markdown",
   "id": "ab99276f",
   "metadata": {},
   "source": [
    "# 01: Importing libraries"
   ]
  },
  {
   "cell_type": "code",
   "execution_count": 1,
   "id": "71db025a",
   "metadata": {},
   "outputs": [],
   "source": [
    "# Import libraries\n",
    "import pandas as pd\n",
    "import numpy as np\n",
    "import os"
   ]
  },
  {
   "cell_type": "markdown",
   "id": "12c70cef",
   "metadata": {},
   "source": [
    "# 02. Data Import"
   ]
  },
  {
   "cell_type": "code",
   "execution_count": 2,
   "id": "4a02f65d",
   "metadata": {},
   "outputs": [],
   "source": [
    "path = r'C:\\Users\\14239\\Downloads\\Instacart Basket Analysis'"
   ]
  },
  {
   "cell_type": "code",
   "execution_count": 3,
   "id": "6db15553",
   "metadata": {},
   "outputs": [],
   "source": [
    "# Import orders_products_merged_2\n",
    "\n",
    "ords_prods_merge = pd.read_pickle(os.path.join(path, '02 Data', 'Prepared Data', 'orders_products_merged_2.pkl'))"
   ]
  },
  {
   "cell_type": "code",
   "execution_count": 5,
   "id": "08a50988",
   "metadata": {},
   "outputs": [
    {
     "data": {
      "text/html": [
       "<div>\n",
       "<style scoped>\n",
       "    .dataframe tbody tr th:only-of-type {\n",
       "        vertical-align: middle;\n",
       "    }\n",
       "\n",
       "    .dataframe tbody tr th {\n",
       "        vertical-align: top;\n",
       "    }\n",
       "\n",
       "    .dataframe thead tr th {\n",
       "        text-align: left;\n",
       "    }\n",
       "\n",
       "    .dataframe thead tr:last-of-type th {\n",
       "        text-align: right;\n",
       "    }\n",
       "</style>\n",
       "<table border=\"1\" class=\"dataframe\">\n",
       "  <thead>\n",
       "    <tr>\n",
       "      <th></th>\n",
       "      <th>user_cumulative_order_number</th>\n",
       "    </tr>\n",
       "    <tr>\n",
       "      <th></th>\n",
       "      <th>mean</th>\n",
       "    </tr>\n",
       "    <tr>\n",
       "      <th>department_id</th>\n",
       "      <th></th>\n",
       "    </tr>\n",
       "  </thead>\n",
       "  <tbody>\n",
       "    <tr>\n",
       "      <th>1.0</th>\n",
       "      <td>15.457838</td>\n",
       "    </tr>\n",
       "    <tr>\n",
       "      <th>2.0</th>\n",
       "      <td>17.277920</td>\n",
       "    </tr>\n",
       "    <tr>\n",
       "      <th>3.0</th>\n",
       "      <td>17.170395</td>\n",
       "    </tr>\n",
       "    <tr>\n",
       "      <th>4.0</th>\n",
       "      <td>17.811403</td>\n",
       "    </tr>\n",
       "    <tr>\n",
       "      <th>5.0</th>\n",
       "      <td>15.215751</td>\n",
       "    </tr>\n",
       "    <tr>\n",
       "      <th>6.0</th>\n",
       "      <td>16.439806</td>\n",
       "    </tr>\n",
       "    <tr>\n",
       "      <th>7.0</th>\n",
       "      <td>17.225802</td>\n",
       "    </tr>\n",
       "    <tr>\n",
       "      <th>8.0</th>\n",
       "      <td>15.340650</td>\n",
       "    </tr>\n",
       "    <tr>\n",
       "      <th>9.0</th>\n",
       "      <td>15.895474</td>\n",
       "    </tr>\n",
       "    <tr>\n",
       "      <th>10.0</th>\n",
       "      <td>20.197148</td>\n",
       "    </tr>\n",
       "    <tr>\n",
       "      <th>11.0</th>\n",
       "      <td>16.170638</td>\n",
       "    </tr>\n",
       "    <tr>\n",
       "      <th>12.0</th>\n",
       "      <td>15.887671</td>\n",
       "    </tr>\n",
       "    <tr>\n",
       "      <th>13.0</th>\n",
       "      <td>16.583536</td>\n",
       "    </tr>\n",
       "    <tr>\n",
       "      <th>14.0</th>\n",
       "      <td>16.773669</td>\n",
       "    </tr>\n",
       "    <tr>\n",
       "      <th>15.0</th>\n",
       "      <td>16.165037</td>\n",
       "    </tr>\n",
       "    <tr>\n",
       "      <th>16.0</th>\n",
       "      <td>17.665606</td>\n",
       "    </tr>\n",
       "    <tr>\n",
       "      <th>17.0</th>\n",
       "      <td>15.694469</td>\n",
       "    </tr>\n",
       "    <tr>\n",
       "      <th>18.0</th>\n",
       "      <td>19.310397</td>\n",
       "    </tr>\n",
       "    <tr>\n",
       "      <th>19.0</th>\n",
       "      <td>17.177343</td>\n",
       "    </tr>\n",
       "    <tr>\n",
       "      <th>20.0</th>\n",
       "      <td>16.473447</td>\n",
       "    </tr>\n",
       "    <tr>\n",
       "      <th>21.0</th>\n",
       "      <td>22.902379</td>\n",
       "    </tr>\n",
       "  </tbody>\n",
       "</table>\n",
       "</div>"
      ],
      "text/plain": [
       "              user_cumulative_order_number\n",
       "                                      mean\n",
       "department_id                             \n",
       "1.0                              15.457838\n",
       "2.0                              17.277920\n",
       "3.0                              17.170395\n",
       "4.0                              17.811403\n",
       "5.0                              15.215751\n",
       "6.0                              16.439806\n",
       "7.0                              17.225802\n",
       "8.0                              15.340650\n",
       "9.0                              15.895474\n",
       "10.0                             20.197148\n",
       "11.0                             16.170638\n",
       "12.0                             15.887671\n",
       "13.0                             16.583536\n",
       "14.0                             16.773669\n",
       "15.0                             16.165037\n",
       "16.0                             17.665606\n",
       "17.0                             15.694469\n",
       "18.0                             19.310397\n",
       "19.0                             17.177343\n",
       "20.0                             16.473447\n",
       "21.0                             22.902379"
      ]
     },
     "execution_count": 5,
     "metadata": {},
     "output_type": "execute_result"
    }
   ],
   "source": [
    "# Find aggregated mean of user_cumulative_order_number grouped by department_id\n",
    "\n",
    "ords_prods_merge.groupby('department_id').agg({'user_cumulative_order_number': ['mean']})"
   ]
  },
  {
   "cell_type": "markdown",
   "id": "21dd79cc",
   "metadata": {},
   "source": [
    "The results of the entire dataframe do not differ largely from the previous subset, usually only +/- less 1 for each department_id. This shows that the subset of 1,000,000 was a reliable sample of the whole dataframe."
   ]
  },
  {
   "cell_type": "code",
   "execution_count": 6,
   "id": "14023bdf",
   "metadata": {},
   "outputs": [],
   "source": [
    "# Create loyalty flag\n",
    "\n",
    "ords_prods_merge['max_order'] = ords_prods_merge.groupby(['user_id'])['user_cumulative_order_number'].transform(np.max)"
   ]
  },
  {
   "cell_type": "code",
   "execution_count": 16,
   "id": "0118a8bc",
   "metadata": {},
   "outputs": [],
   "source": [
    "ords_prods_merge.loc[ords_prods_merge['max_order'] > 40, 'loyalty_flag2'] = 'Loyal customer'"
   ]
  },
  {
   "cell_type": "code",
   "execution_count": 17,
   "id": "3872e940",
   "metadata": {},
   "outputs": [],
   "source": [
    "ords_prods_merge.loc[(ords_prods_merge['max_order'] <= 40) & (ords_prods_merge['max_order'] > 10), 'loyalty_flag2'] = 'Regular customer'"
   ]
  },
  {
   "cell_type": "code",
   "execution_count": 18,
   "id": "39c13b73",
   "metadata": {},
   "outputs": [],
   "source": [
    "ords_prods_merge.loc[ords_prods_merge['max_order'] <= 10, 'loyalty_flag2'] = 'New customer'"
   ]
  },
  {
   "cell_type": "code",
   "execution_count": 19,
   "id": "118da20d",
   "metadata": {},
   "outputs": [
    {
     "data": {
      "text/html": [
       "<div>\n",
       "<style scoped>\n",
       "    .dataframe tbody tr th:only-of-type {\n",
       "        vertical-align: middle;\n",
       "    }\n",
       "\n",
       "    .dataframe tbody tr th {\n",
       "        vertical-align: top;\n",
       "    }\n",
       "\n",
       "    .dataframe thead tr th {\n",
       "        text-align: left;\n",
       "    }\n",
       "\n",
       "    .dataframe thead tr:last-of-type th {\n",
       "        text-align: right;\n",
       "    }\n",
       "</style>\n",
       "<table border=\"1\" class=\"dataframe\">\n",
       "  <thead>\n",
       "    <tr>\n",
       "      <th></th>\n",
       "      <th colspan=\"3\" halign=\"left\">prices</th>\n",
       "    </tr>\n",
       "    <tr>\n",
       "      <th></th>\n",
       "      <th>mean</th>\n",
       "      <th>min</th>\n",
       "      <th>max</th>\n",
       "    </tr>\n",
       "    <tr>\n",
       "      <th>loyalty_flag2</th>\n",
       "      <th></th>\n",
       "      <th></th>\n",
       "      <th></th>\n",
       "    </tr>\n",
       "  </thead>\n",
       "  <tbody>\n",
       "    <tr>\n",
       "      <th>Loyal customer</th>\n",
       "      <td>10.386336</td>\n",
       "      <td>1.0</td>\n",
       "      <td>99999.0</td>\n",
       "    </tr>\n",
       "    <tr>\n",
       "      <th>New customer</th>\n",
       "      <td>13.294670</td>\n",
       "      <td>1.0</td>\n",
       "      <td>99999.0</td>\n",
       "    </tr>\n",
       "    <tr>\n",
       "      <th>Regular customer</th>\n",
       "      <td>12.495717</td>\n",
       "      <td>1.0</td>\n",
       "      <td>99999.0</td>\n",
       "    </tr>\n",
       "  </tbody>\n",
       "</table>\n",
       "</div>"
      ],
      "text/plain": [
       "                     prices              \n",
       "                       mean  min      max\n",
       "loyalty_flag2                            \n",
       "Loyal customer    10.386336  1.0  99999.0\n",
       "New customer      13.294670  1.0  99999.0\n",
       "Regular customer  12.495717  1.0  99999.0"
      ]
     },
     "execution_count": 19,
     "metadata": {},
     "output_type": "execute_result"
    }
   ],
   "source": [
    "# Spending Habits by customer loyalty\n",
    "\n",
    "ords_prods_merge.groupby('loyalty_flag2').agg({'prices': ['mean', 'min', 'max']})"
   ]
  },
  {
   "cell_type": "code",
   "execution_count": 12,
   "id": "9b59172f",
   "metadata": {},
   "outputs": [],
   "source": [
    "# Create spending flag\n",
    "\n",
    "ords_prods_merge['avg_order_price'] = ords_prods_merge.groupby(['user_id'])['prices'].transform(np.mean)"
   ]
  },
  {
   "cell_type": "code",
   "execution_count": 13,
   "id": "3307b68a",
   "metadata": {},
   "outputs": [],
   "source": [
    "ords_prods_merge.loc[ords_prods_merge['avg_order_price'] < 10, 'loyalty_flag'] = 'Low Spender'"
   ]
  },
  {
   "cell_type": "code",
   "execution_count": 14,
   "id": "b5e2f185",
   "metadata": {},
   "outputs": [],
   "source": [
    "ords_prods_merge.loc[ords_prods_merge['avg_order_price'] >= 10, 'loyalty_flag'] = 'High Spender'"
   ]
  },
  {
   "cell_type": "code",
   "execution_count": 27,
   "id": "fa0218f9",
   "metadata": {},
   "outputs": [
    {
     "data": {
      "text/html": [
       "<div>\n",
       "<style scoped>\n",
       "    .dataframe tbody tr th:only-of-type {\n",
       "        vertical-align: middle;\n",
       "    }\n",
       "\n",
       "    .dataframe tbody tr th {\n",
       "        vertical-align: top;\n",
       "    }\n",
       "\n",
       "    .dataframe thead tr th {\n",
       "        text-align: left;\n",
       "    }\n",
       "\n",
       "    .dataframe thead tr:last-of-type th {\n",
       "        text-align: right;\n",
       "    }\n",
       "</style>\n",
       "<table border=\"1\" class=\"dataframe\">\n",
       "  <thead>\n",
       "    <tr>\n",
       "      <th></th>\n",
       "      <th colspan=\"3\" halign=\"left\">prices</th>\n",
       "    </tr>\n",
       "    <tr>\n",
       "      <th></th>\n",
       "      <th>mean</th>\n",
       "      <th>min</th>\n",
       "      <th>max</th>\n",
       "    </tr>\n",
       "    <tr>\n",
       "      <th>loyalty_flag</th>\n",
       "      <th></th>\n",
       "      <th></th>\n",
       "      <th></th>\n",
       "    </tr>\n",
       "  </thead>\n",
       "  <tbody>\n",
       "    <tr>\n",
       "      <th>High Spender</th>\n",
       "      <td>222.343698</td>\n",
       "      <td>1.0</td>\n",
       "      <td>99999.0</td>\n",
       "    </tr>\n",
       "    <tr>\n",
       "      <th>Low Spender</th>\n",
       "      <td>7.780685</td>\n",
       "      <td>1.0</td>\n",
       "      <td>25.0</td>\n",
       "    </tr>\n",
       "  </tbody>\n",
       "</table>\n",
       "</div>"
      ],
      "text/plain": [
       "                  prices              \n",
       "                    mean  min      max\n",
       "loyalty_flag                          \n",
       "High Spender  222.343698  1.0  99999.0\n",
       "Low Spender     7.780685  1.0     25.0"
      ]
     },
     "execution_count": 27,
     "metadata": {},
     "output_type": "execute_result"
    }
   ],
   "source": [
    "ords_prods_merge.groupby('loyalty_flag').agg({'prices': ['mean', 'min', 'max']})"
   ]
  },
  {
   "cell_type": "code",
   "execution_count": 21,
   "id": "4668e04f",
   "metadata": {},
   "outputs": [],
   "source": [
    "# Create order frequency flag\n",
    "\n",
    "ords_prods_merge['days_since_prior_order'] = ords_prods_merge.groupby(['user_id'])['days_since_prior_order'].transform(np.median)"
   ]
  },
  {
   "cell_type": "code",
   "execution_count": 22,
   "id": "cebe7a9f",
   "metadata": {},
   "outputs": [],
   "source": [
    "ords_prods_merge.loc[ords_prods_merge['days_since_prior_order'] > 20, 'loyalty_flag3'] = 'Non-Frequent Customer'"
   ]
  },
  {
   "cell_type": "code",
   "execution_count": 23,
   "id": "a6e229ca",
   "metadata": {},
   "outputs": [],
   "source": [
    "ords_prods_merge.loc[(ords_prods_merge['days_since_prior_order'] > 10) & (ords_prods_merge['days_since_prior_order'] <= 20), 'loyalty_flag3'] = 'Regular Customer'"
   ]
  },
  {
   "cell_type": "code",
   "execution_count": 24,
   "id": "7b4f69d8",
   "metadata": {},
   "outputs": [],
   "source": [
    "ords_prods_merge.loc[ords_prods_merge['days_since_prior_order'] < 10, 'loyalty_flag3'] = 'Frequent Customer'"
   ]
  },
  {
   "cell_type": "code",
   "execution_count": 26,
   "id": "b129684b",
   "metadata": {},
   "outputs": [
    {
     "data": {
      "text/html": [
       "<div>\n",
       "<style scoped>\n",
       "    .dataframe tbody tr th:only-of-type {\n",
       "        vertical-align: middle;\n",
       "    }\n",
       "\n",
       "    .dataframe tbody tr th {\n",
       "        vertical-align: top;\n",
       "    }\n",
       "\n",
       "    .dataframe thead tr th {\n",
       "        text-align: left;\n",
       "    }\n",
       "\n",
       "    .dataframe thead tr:last-of-type th {\n",
       "        text-align: right;\n",
       "    }\n",
       "</style>\n",
       "<table border=\"1\" class=\"dataframe\">\n",
       "  <thead>\n",
       "    <tr>\n",
       "      <th></th>\n",
       "      <th colspan=\"3\" halign=\"left\">days_since_prior_order</th>\n",
       "    </tr>\n",
       "    <tr>\n",
       "      <th></th>\n",
       "      <th>mean</th>\n",
       "      <th>min</th>\n",
       "      <th>max</th>\n",
       "    </tr>\n",
       "    <tr>\n",
       "      <th>loyalty_flag3</th>\n",
       "      <th></th>\n",
       "      <th></th>\n",
       "      <th></th>\n",
       "    </tr>\n",
       "  </thead>\n",
       "  <tbody>\n",
       "    <tr>\n",
       "      <th>Frequent Customer</th>\n",
       "      <td>6.070575</td>\n",
       "      <td>0.0</td>\n",
       "      <td>9.5</td>\n",
       "    </tr>\n",
       "    <tr>\n",
       "      <th>Non-Frequent Customer</th>\n",
       "      <td>26.920908</td>\n",
       "      <td>20.5</td>\n",
       "      <td>30.0</td>\n",
       "    </tr>\n",
       "    <tr>\n",
       "      <th>Regular Customer</th>\n",
       "      <td>14.309677</td>\n",
       "      <td>10.5</td>\n",
       "      <td>20.0</td>\n",
       "    </tr>\n",
       "  </tbody>\n",
       "</table>\n",
       "</div>"
      ],
      "text/plain": [
       "                      days_since_prior_order            \n",
       "                                        mean   min   max\n",
       "loyalty_flag3                                           \n",
       "Frequent Customer                   6.070575   0.0   9.5\n",
       "Non-Frequent Customer              26.920908  20.5  30.0\n",
       "Regular Customer                   14.309677  10.5  20.0"
      ]
     },
     "execution_count": 26,
     "metadata": {},
     "output_type": "execute_result"
    }
   ],
   "source": [
    "ords_prods_merge.groupby('loyalty_flag3').agg({'days_since_prior_order': ['mean', 'min', 'max']})"
   ]
  },
  {
   "cell_type": "code",
   "execution_count": 28,
   "id": "295b76c7",
   "metadata": {},
   "outputs": [],
   "source": [
    "# Export orders_products_merged as orders_products_merged_2.pkl\n",
    "\n",
    "ords_prods_merge.to_pickle(os.path.join(path, '02 Data','Prepared Data', 'orders_products_merged_3.pkl'))"
   ]
  },
  {
   "cell_type": "code",
   "execution_count": null,
   "id": "ab69746c",
   "metadata": {},
   "outputs": [],
   "source": []
  }
 ],
 "metadata": {
  "kernelspec": {
   "display_name": "Python 3 (ipykernel)",
   "language": "python",
   "name": "python3"
  },
  "language_info": {
   "codemirror_mode": {
    "name": "ipython",
    "version": 3
   },
   "file_extension": ".py",
   "mimetype": "text/x-python",
   "name": "python",
   "nbconvert_exporter": "python",
   "pygments_lexer": "ipython3",
   "version": "3.9.7"
  }
 },
 "nbformat": 4,
 "nbformat_minor": 5
}
