{
 "cells": [
  {
   "cell_type": "markdown",
   "id": "355e6a6f",
   "metadata": {},
   "source": [
    "# 01: Importing libraries"
   ]
  },
  {
   "cell_type": "code",
   "execution_count": 1,
   "id": "5026a129",
   "metadata": {},
   "outputs": [],
   "source": [
    "import pandas as pd\n",
    "import numpy as np\n",
    "import os\n",
    "import matplotlib.pyplot as plt\n",
    "import seaborn as sns\n",
    "import scipy"
   ]
  },
  {
   "cell_type": "markdown",
   "id": "7f3cc5c4",
   "metadata": {},
   "source": [
    "# 02: Contents\n",
    "\n",
    "Data Import\n",
    "Create Region variable\n",
    "Exclude Low Activity\n",
    "Create Customer Profiles and Visualizations\n",
    "Aggregate Metrics\n",
    "Customer Profile Comparisons"
   ]
  },
  {
   "cell_type": "markdown",
   "id": "e8c11c75",
   "metadata": {},
   "source": [
    "# 03: Data Import"
   ]
  },
  {
   "cell_type": "code",
   "execution_count": 2,
   "id": "c8d1b6b6",
   "metadata": {},
   "outputs": [],
   "source": [
    "path = r'C:\\Users\\14239\\Downloads\\Personal\\Instacart Basket Analysis'"
   ]
  },
  {
   "cell_type": "code",
   "execution_count": 3,
   "id": "03d17e1b",
   "metadata": {},
   "outputs": [],
   "source": [
    "# Import ord_prod_cust_merge\n",
    "\n",
    "ord_prod_cust_merge = pd.read_pickle(os.path.join(path, '02 Data', 'Prepared Data', 'ord_prod_cust_merge.pkl'))"
   ]
  },
  {
   "cell_type": "code",
   "execution_count": 4,
   "id": "1b2c2cd1",
   "metadata": {},
   "outputs": [],
   "source": [
    "# Create region list\n",
    "\n",
    "Northeast = ['Maine','New Hampshire','Vermont','Massachusetts','Rhode Island','Connecticut','New York','New Jersey','Pennsylvania']"
   ]
  },
  {
   "cell_type": "code",
   "execution_count": 5,
   "id": "497b9738",
   "metadata": {},
   "outputs": [],
   "source": [
    "Midwest = ['Wisconsin','Michigan','Illinois','Indiana','Ohio','North Dakota','South Dakota','Nebraska','Kansas','Minnesota','Iowa','Missouri']"
   ]
  },
  {
   "cell_type": "code",
   "execution_count": 6,
   "id": "15ad3122",
   "metadata": {},
   "outputs": [],
   "source": [
    "South = ['Delaware','Maryland','District of Columbia','Virginia','West Virginia','North Carolina','South Carolina','Georgia','Florida','Kentucky','Tennessee','Mississippi','Alabama','Oklahoma','Texas','Arkansas','Louisiana']"
   ]
  },
  {
   "cell_type": "code",
   "execution_count": 7,
   "id": "ba7b5e5a",
   "metadata": {},
   "outputs": [],
   "source": [
    "West = ['Idaho','Montana','Wyoming','Nevada','Utah','Colorado','Arizona','New Mexico','Alaska','Washington','Oregon','California','Hawaii']"
   ]
  },
  {
   "cell_type": "code",
   "execution_count": 8,
   "id": "dbc1f8f6",
   "metadata": {},
   "outputs": [],
   "source": [
    "# Add conditions and values for new column\n",
    "\n",
    "cond = [ord_prod_cust_merge['State'].isin(Northeast), ord_prod_cust_merge['State'].isin(Midwest), ord_prod_cust_merge['State'].isin(South), ord_prod_cust_merge['State'].isin(West)]"
   ]
  },
  {
   "cell_type": "code",
   "execution_count": 9,
   "id": "45a67e45",
   "metadata": {},
   "outputs": [],
   "source": [
    "values = ['Northeast','Midwest','South','West']"
   ]
  },
  {
   "cell_type": "code",
   "execution_count": 10,
   "id": "17cdccb0",
   "metadata": {},
   "outputs": [],
   "source": [
    "# Add Region column\n",
    "\n",
    "ord_prod_cust_merge['Region'] = np.select(cond,values)"
   ]
  },
  {
   "cell_type": "code",
   "execution_count": 11,
   "id": "49083e4e",
   "metadata": {},
   "outputs": [],
   "source": [
    "crosstab = pd.crosstab(ord_prod_cust_merge['Region'], ord_prod_cust_merge['loyalty_flag'], dropna = False)"
   ]
  },
  {
   "cell_type": "code",
   "execution_count": 12,
   "id": "d64f5e2d",
   "metadata": {},
   "outputs": [
    {
     "data": {
      "text/html": [
       "<div>\n",
       "<style scoped>\n",
       "    .dataframe tbody tr th:only-of-type {\n",
       "        vertical-align: middle;\n",
       "    }\n",
       "\n",
       "    .dataframe tbody tr th {\n",
       "        vertical-align: top;\n",
       "    }\n",
       "\n",
       "    .dataframe thead th {\n",
       "        text-align: right;\n",
       "    }\n",
       "</style>\n",
       "<table border=\"1\" class=\"dataframe\">\n",
       "  <thead>\n",
       "    <tr style=\"text-align: right;\">\n",
       "      <th>loyalty_flag</th>\n",
       "      <th>High Spender</th>\n",
       "      <th>Low Spender</th>\n",
       "    </tr>\n",
       "    <tr>\n",
       "      <th>Region</th>\n",
       "      <th></th>\n",
       "      <th></th>\n",
       "    </tr>\n",
       "  </thead>\n",
       "  <tbody>\n",
       "    <tr>\n",
       "      <th>Midwest</th>\n",
       "      <td>156084</td>\n",
       "      <td>7447932</td>\n",
       "    </tr>\n",
       "    <tr>\n",
       "      <th>Northeast</th>\n",
       "      <td>108276</td>\n",
       "      <td>5620168</td>\n",
       "    </tr>\n",
       "    <tr>\n",
       "      <th>South</th>\n",
       "      <td>209878</td>\n",
       "      <td>10592104</td>\n",
       "    </tr>\n",
       "    <tr>\n",
       "      <th>West</th>\n",
       "      <td>160440</td>\n",
       "      <td>8140177</td>\n",
       "    </tr>\n",
       "  </tbody>\n",
       "</table>\n",
       "</div>"
      ],
      "text/plain": [
       "loyalty_flag  High Spender  Low Spender\n",
       "Region                                 \n",
       "Midwest             156084      7447932\n",
       "Northeast           108276      5620168\n",
       "South               209878     10592104\n",
       "West                160440      8140177"
      ]
     },
     "execution_count": 12,
     "metadata": {},
     "output_type": "execute_result"
    }
   ],
   "source": [
    "crosstab"
   ]
  },
  {
   "cell_type": "code",
   "execution_count": 11,
   "id": "bc019176",
   "metadata": {},
   "outputs": [],
   "source": [
    "# Create order activity flag\n",
    "\n",
    "ord_prod_cust_merge.loc[ord_prod_cust_merge['max_order'] < 5, 'activity_flag'] = 'Low activity'"
   ]
  },
  {
   "cell_type": "code",
   "execution_count": 12,
   "id": "11059fde",
   "metadata": {},
   "outputs": [],
   "source": [
    "ord_prod_cust_merge.loc[ord_prod_cust_merge['max_order'] >= 5, 'activity_flag'] = 'Normal activity'"
   ]
  },
  {
   "cell_type": "code",
   "execution_count": 13,
   "id": "c404dcec",
   "metadata": {},
   "outputs": [
    {
     "data": {
      "text/plain": [
       "Normal activity    30993489\n",
       "Low activity        1441570\n",
       "Name: activity_flag, dtype: int64"
      ]
     },
     "execution_count": 13,
     "metadata": {},
     "output_type": "execute_result"
    }
   ],
   "source": [
    "ord_prod_cust_merge['activity_flag'].value_counts(dropna = False)"
   ]
  },
  {
   "cell_type": "code",
   "execution_count": 5,
   "id": "d16dda13",
   "metadata": {},
   "outputs": [],
   "source": [
    "# Export as Pickle file\n",
    "\n",
    "ord_prod_cust_merge.to_pickle(os.path.join(path, '02 Data', 'Prepared Data', 'ord_prod_cust_merge_act.pkl'))"
   ]
  },
  {
   "cell_type": "code",
   "execution_count": 39,
   "id": "50d26cc2",
   "metadata": {},
   "outputs": [],
   "source": [
    "# Import departments data\n",
    "\n",
    "dept = pd.read_csv(os.path.join(path, '02 Data', 'Original Data', 'departments.csv'), index_col = False)"
   ]
  },
  {
   "cell_type": "code",
   "execution_count": 8,
   "id": "d2e9c554",
   "metadata": {},
   "outputs": [
    {
     "data": {
      "text/html": [
       "<div>\n",
       "<style scoped>\n",
       "    .dataframe tbody tr th:only-of-type {\n",
       "        vertical-align: middle;\n",
       "    }\n",
       "\n",
       "    .dataframe tbody tr th {\n",
       "        vertical-align: top;\n",
       "    }\n",
       "\n",
       "    .dataframe thead th {\n",
       "        text-align: right;\n",
       "    }\n",
       "</style>\n",
       "<table border=\"1\" class=\"dataframe\">\n",
       "  <thead>\n",
       "    <tr style=\"text-align: right;\">\n",
       "      <th></th>\n",
       "      <th>department_id</th>\n",
       "      <th>1</th>\n",
       "      <th>2</th>\n",
       "      <th>3</th>\n",
       "      <th>4</th>\n",
       "      <th>5</th>\n",
       "      <th>6</th>\n",
       "      <th>7</th>\n",
       "      <th>8</th>\n",
       "      <th>9</th>\n",
       "      <th>...</th>\n",
       "      <th>12</th>\n",
       "      <th>13</th>\n",
       "      <th>14</th>\n",
       "      <th>15</th>\n",
       "      <th>16</th>\n",
       "      <th>17</th>\n",
       "      <th>18</th>\n",
       "      <th>19</th>\n",
       "      <th>20</th>\n",
       "      <th>21</th>\n",
       "    </tr>\n",
       "  </thead>\n",
       "  <tbody>\n",
       "    <tr>\n",
       "      <th>0</th>\n",
       "      <td>department</td>\n",
       "      <td>frozen</td>\n",
       "      <td>other</td>\n",
       "      <td>bakery</td>\n",
       "      <td>produce</td>\n",
       "      <td>alcohol</td>\n",
       "      <td>international</td>\n",
       "      <td>beverages</td>\n",
       "      <td>pets</td>\n",
       "      <td>dry goods pasta</td>\n",
       "      <td>...</td>\n",
       "      <td>meat seafood</td>\n",
       "      <td>pantry</td>\n",
       "      <td>breakfast</td>\n",
       "      <td>canned goods</td>\n",
       "      <td>dairy eggs</td>\n",
       "      <td>household</td>\n",
       "      <td>babies</td>\n",
       "      <td>snacks</td>\n",
       "      <td>deli</td>\n",
       "      <td>missing</td>\n",
       "    </tr>\n",
       "  </tbody>\n",
       "</table>\n",
       "<p>1 rows × 22 columns</p>\n",
       "</div>"
      ],
      "text/plain": [
       "  department_id       1      2       3        4        5              6  \\\n",
       "0    department  frozen  other  bakery  produce  alcohol  international   \n",
       "\n",
       "           7     8                9  ...            12      13         14  \\\n",
       "0  beverages  pets  dry goods pasta  ...  meat seafood  pantry  breakfast   \n",
       "\n",
       "             15          16         17      18      19    20       21  \n",
       "0  canned goods  dairy eggs  household  babies  snacks  deli  missing  \n",
       "\n",
       "[1 rows x 22 columns]"
      ]
     },
     "execution_count": 8,
     "metadata": {},
     "output_type": "execute_result"
    }
   ],
   "source": [
    "dept.head(10)"
   ]
  },
  {
   "cell_type": "code",
   "execution_count": 40,
   "id": "fe471705",
   "metadata": {},
   "outputs": [
    {
     "data": {
      "text/html": [
       "<div>\n",
       "<style scoped>\n",
       "    .dataframe tbody tr th:only-of-type {\n",
       "        vertical-align: middle;\n",
       "    }\n",
       "\n",
       "    .dataframe tbody tr th {\n",
       "        vertical-align: top;\n",
       "    }\n",
       "\n",
       "    .dataframe thead th {\n",
       "        text-align: right;\n",
       "    }\n",
       "</style>\n",
       "<table border=\"1\" class=\"dataframe\">\n",
       "  <thead>\n",
       "    <tr style=\"text-align: right;\">\n",
       "      <th></th>\n",
       "      <th>0</th>\n",
       "    </tr>\n",
       "  </thead>\n",
       "  <tbody>\n",
       "    <tr>\n",
       "      <th>department_id</th>\n",
       "      <td>department</td>\n",
       "    </tr>\n",
       "    <tr>\n",
       "      <th>1</th>\n",
       "      <td>frozen</td>\n",
       "    </tr>\n",
       "    <tr>\n",
       "      <th>2</th>\n",
       "      <td>other</td>\n",
       "    </tr>\n",
       "    <tr>\n",
       "      <th>3</th>\n",
       "      <td>bakery</td>\n",
       "    </tr>\n",
       "    <tr>\n",
       "      <th>4</th>\n",
       "      <td>produce</td>\n",
       "    </tr>\n",
       "    <tr>\n",
       "      <th>5</th>\n",
       "      <td>alcohol</td>\n",
       "    </tr>\n",
       "    <tr>\n",
       "      <th>6</th>\n",
       "      <td>international</td>\n",
       "    </tr>\n",
       "    <tr>\n",
       "      <th>7</th>\n",
       "      <td>beverages</td>\n",
       "    </tr>\n",
       "    <tr>\n",
       "      <th>8</th>\n",
       "      <td>pets</td>\n",
       "    </tr>\n",
       "    <tr>\n",
       "      <th>9</th>\n",
       "      <td>dry goods pasta</td>\n",
       "    </tr>\n",
       "    <tr>\n",
       "      <th>10</th>\n",
       "      <td>bulk</td>\n",
       "    </tr>\n",
       "    <tr>\n",
       "      <th>11</th>\n",
       "      <td>personal care</td>\n",
       "    </tr>\n",
       "    <tr>\n",
       "      <th>12</th>\n",
       "      <td>meat seafood</td>\n",
       "    </tr>\n",
       "    <tr>\n",
       "      <th>13</th>\n",
       "      <td>pantry</td>\n",
       "    </tr>\n",
       "    <tr>\n",
       "      <th>14</th>\n",
       "      <td>breakfast</td>\n",
       "    </tr>\n",
       "    <tr>\n",
       "      <th>15</th>\n",
       "      <td>canned goods</td>\n",
       "    </tr>\n",
       "    <tr>\n",
       "      <th>16</th>\n",
       "      <td>dairy eggs</td>\n",
       "    </tr>\n",
       "    <tr>\n",
       "      <th>17</th>\n",
       "      <td>household</td>\n",
       "    </tr>\n",
       "    <tr>\n",
       "      <th>18</th>\n",
       "      <td>babies</td>\n",
       "    </tr>\n",
       "    <tr>\n",
       "      <th>19</th>\n",
       "      <td>snacks</td>\n",
       "    </tr>\n",
       "    <tr>\n",
       "      <th>20</th>\n",
       "      <td>deli</td>\n",
       "    </tr>\n",
       "    <tr>\n",
       "      <th>21</th>\n",
       "      <td>missing</td>\n",
       "    </tr>\n",
       "  </tbody>\n",
       "</table>\n",
       "</div>"
      ],
      "text/plain": [
       "                             0\n",
       "department_id       department\n",
       "1                       frozen\n",
       "2                        other\n",
       "3                       bakery\n",
       "4                      produce\n",
       "5                      alcohol\n",
       "6                international\n",
       "7                    beverages\n",
       "8                         pets\n",
       "9              dry goods pasta\n",
       "10                        bulk\n",
       "11               personal care\n",
       "12                meat seafood\n",
       "13                      pantry\n",
       "14                   breakfast\n",
       "15                canned goods\n",
       "16                  dairy eggs\n",
       "17                   household\n",
       "18                      babies\n",
       "19                      snacks\n",
       "20                        deli\n",
       "21                     missing"
      ]
     },
     "execution_count": 40,
     "metadata": {},
     "output_type": "execute_result"
    }
   ],
   "source": [
    "dept.T"
   ]
  },
  {
   "cell_type": "code",
   "execution_count": 41,
   "id": "16af49ff",
   "metadata": {},
   "outputs": [],
   "source": [
    "df_dept = dept.T"
   ]
  },
  {
   "cell_type": "code",
   "execution_count": 42,
   "id": "397901b8",
   "metadata": {},
   "outputs": [
    {
     "data": {
      "text/html": [
       "<div>\n",
       "<style scoped>\n",
       "    .dataframe tbody tr th:only-of-type {\n",
       "        vertical-align: middle;\n",
       "    }\n",
       "\n",
       "    .dataframe tbody tr th {\n",
       "        vertical-align: top;\n",
       "    }\n",
       "\n",
       "    .dataframe thead th {\n",
       "        text-align: right;\n",
       "    }\n",
       "</style>\n",
       "<table border=\"1\" class=\"dataframe\">\n",
       "  <thead>\n",
       "    <tr style=\"text-align: right;\">\n",
       "      <th></th>\n",
       "      <th>0</th>\n",
       "    </tr>\n",
       "  </thead>\n",
       "  <tbody>\n",
       "    <tr>\n",
       "      <th>department_id</th>\n",
       "      <td>department</td>\n",
       "    </tr>\n",
       "    <tr>\n",
       "      <th>1</th>\n",
       "      <td>frozen</td>\n",
       "    </tr>\n",
       "    <tr>\n",
       "      <th>2</th>\n",
       "      <td>other</td>\n",
       "    </tr>\n",
       "    <tr>\n",
       "      <th>3</th>\n",
       "      <td>bakery</td>\n",
       "    </tr>\n",
       "    <tr>\n",
       "      <th>4</th>\n",
       "      <td>produce</td>\n",
       "    </tr>\n",
       "    <tr>\n",
       "      <th>5</th>\n",
       "      <td>alcohol</td>\n",
       "    </tr>\n",
       "    <tr>\n",
       "      <th>6</th>\n",
       "      <td>international</td>\n",
       "    </tr>\n",
       "    <tr>\n",
       "      <th>7</th>\n",
       "      <td>beverages</td>\n",
       "    </tr>\n",
       "    <tr>\n",
       "      <th>8</th>\n",
       "      <td>pets</td>\n",
       "    </tr>\n",
       "    <tr>\n",
       "      <th>9</th>\n",
       "      <td>dry goods pasta</td>\n",
       "    </tr>\n",
       "    <tr>\n",
       "      <th>10</th>\n",
       "      <td>bulk</td>\n",
       "    </tr>\n",
       "    <tr>\n",
       "      <th>11</th>\n",
       "      <td>personal care</td>\n",
       "    </tr>\n",
       "    <tr>\n",
       "      <th>12</th>\n",
       "      <td>meat seafood</td>\n",
       "    </tr>\n",
       "    <tr>\n",
       "      <th>13</th>\n",
       "      <td>pantry</td>\n",
       "    </tr>\n",
       "    <tr>\n",
       "      <th>14</th>\n",
       "      <td>breakfast</td>\n",
       "    </tr>\n",
       "    <tr>\n",
       "      <th>15</th>\n",
       "      <td>canned goods</td>\n",
       "    </tr>\n",
       "    <tr>\n",
       "      <th>16</th>\n",
       "      <td>dairy eggs</td>\n",
       "    </tr>\n",
       "    <tr>\n",
       "      <th>17</th>\n",
       "      <td>household</td>\n",
       "    </tr>\n",
       "    <tr>\n",
       "      <th>18</th>\n",
       "      <td>babies</td>\n",
       "    </tr>\n",
       "    <tr>\n",
       "      <th>19</th>\n",
       "      <td>snacks</td>\n",
       "    </tr>\n",
       "    <tr>\n",
       "      <th>20</th>\n",
       "      <td>deli</td>\n",
       "    </tr>\n",
       "    <tr>\n",
       "      <th>21</th>\n",
       "      <td>missing</td>\n",
       "    </tr>\n",
       "  </tbody>\n",
       "</table>\n",
       "</div>"
      ],
      "text/plain": [
       "                             0\n",
       "department_id       department\n",
       "1                       frozen\n",
       "2                        other\n",
       "3                       bakery\n",
       "4                      produce\n",
       "5                      alcohol\n",
       "6                international\n",
       "7                    beverages\n",
       "8                         pets\n",
       "9              dry goods pasta\n",
       "10                        bulk\n",
       "11               personal care\n",
       "12                meat seafood\n",
       "13                      pantry\n",
       "14                   breakfast\n",
       "15                canned goods\n",
       "16                  dairy eggs\n",
       "17                   household\n",
       "18                      babies\n",
       "19                      snacks\n",
       "20                        deli\n",
       "21                     missing"
      ]
     },
     "execution_count": 42,
     "metadata": {},
     "output_type": "execute_result"
    }
   ],
   "source": [
    "df_dept"
   ]
  },
  {
   "cell_type": "code",
   "execution_count": 43,
   "id": "4427799d",
   "metadata": {},
   "outputs": [
    {
     "data": {
      "text/html": [
       "<div>\n",
       "<style scoped>\n",
       "    .dataframe tbody tr th:only-of-type {\n",
       "        vertical-align: middle;\n",
       "    }\n",
       "\n",
       "    .dataframe tbody tr th {\n",
       "        vertical-align: top;\n",
       "    }\n",
       "\n",
       "    .dataframe thead th {\n",
       "        text-align: right;\n",
       "    }\n",
       "</style>\n",
       "<table border=\"1\" class=\"dataframe\">\n",
       "  <thead>\n",
       "    <tr style=\"text-align: right;\">\n",
       "      <th></th>\n",
       "      <th>index</th>\n",
       "      <th>0</th>\n",
       "    </tr>\n",
       "  </thead>\n",
       "  <tbody>\n",
       "    <tr>\n",
       "      <th>0</th>\n",
       "      <td>department_id</td>\n",
       "      <td>department</td>\n",
       "    </tr>\n",
       "    <tr>\n",
       "      <th>1</th>\n",
       "      <td>1</td>\n",
       "      <td>frozen</td>\n",
       "    </tr>\n",
       "    <tr>\n",
       "      <th>2</th>\n",
       "      <td>2</td>\n",
       "      <td>other</td>\n",
       "    </tr>\n",
       "    <tr>\n",
       "      <th>3</th>\n",
       "      <td>3</td>\n",
       "      <td>bakery</td>\n",
       "    </tr>\n",
       "    <tr>\n",
       "      <th>4</th>\n",
       "      <td>4</td>\n",
       "      <td>produce</td>\n",
       "    </tr>\n",
       "    <tr>\n",
       "      <th>5</th>\n",
       "      <td>5</td>\n",
       "      <td>alcohol</td>\n",
       "    </tr>\n",
       "    <tr>\n",
       "      <th>6</th>\n",
       "      <td>6</td>\n",
       "      <td>international</td>\n",
       "    </tr>\n",
       "    <tr>\n",
       "      <th>7</th>\n",
       "      <td>7</td>\n",
       "      <td>beverages</td>\n",
       "    </tr>\n",
       "    <tr>\n",
       "      <th>8</th>\n",
       "      <td>8</td>\n",
       "      <td>pets</td>\n",
       "    </tr>\n",
       "    <tr>\n",
       "      <th>9</th>\n",
       "      <td>9</td>\n",
       "      <td>dry goods pasta</td>\n",
       "    </tr>\n",
       "    <tr>\n",
       "      <th>10</th>\n",
       "      <td>10</td>\n",
       "      <td>bulk</td>\n",
       "    </tr>\n",
       "    <tr>\n",
       "      <th>11</th>\n",
       "      <td>11</td>\n",
       "      <td>personal care</td>\n",
       "    </tr>\n",
       "    <tr>\n",
       "      <th>12</th>\n",
       "      <td>12</td>\n",
       "      <td>meat seafood</td>\n",
       "    </tr>\n",
       "    <tr>\n",
       "      <th>13</th>\n",
       "      <td>13</td>\n",
       "      <td>pantry</td>\n",
       "    </tr>\n",
       "    <tr>\n",
       "      <th>14</th>\n",
       "      <td>14</td>\n",
       "      <td>breakfast</td>\n",
       "    </tr>\n",
       "    <tr>\n",
       "      <th>15</th>\n",
       "      <td>15</td>\n",
       "      <td>canned goods</td>\n",
       "    </tr>\n",
       "    <tr>\n",
       "      <th>16</th>\n",
       "      <td>16</td>\n",
       "      <td>dairy eggs</td>\n",
       "    </tr>\n",
       "    <tr>\n",
       "      <th>17</th>\n",
       "      <td>17</td>\n",
       "      <td>household</td>\n",
       "    </tr>\n",
       "    <tr>\n",
       "      <th>18</th>\n",
       "      <td>18</td>\n",
       "      <td>babies</td>\n",
       "    </tr>\n",
       "    <tr>\n",
       "      <th>19</th>\n",
       "      <td>19</td>\n",
       "      <td>snacks</td>\n",
       "    </tr>\n",
       "    <tr>\n",
       "      <th>20</th>\n",
       "      <td>20</td>\n",
       "      <td>deli</td>\n",
       "    </tr>\n",
       "    <tr>\n",
       "      <th>21</th>\n",
       "      <td>21</td>\n",
       "      <td>missing</td>\n",
       "    </tr>\n",
       "  </tbody>\n",
       "</table>\n",
       "</div>"
      ],
      "text/plain": [
       "            index                0\n",
       "0   department_id       department\n",
       "1               1           frozen\n",
       "2               2            other\n",
       "3               3           bakery\n",
       "4               4          produce\n",
       "5               5          alcohol\n",
       "6               6    international\n",
       "7               7        beverages\n",
       "8               8             pets\n",
       "9               9  dry goods pasta\n",
       "10             10             bulk\n",
       "11             11    personal care\n",
       "12             12     meat seafood\n",
       "13             13           pantry\n",
       "14             14        breakfast\n",
       "15             15     canned goods\n",
       "16             16       dairy eggs\n",
       "17             17        household\n",
       "18             18           babies\n",
       "19             19           snacks\n",
       "20             20             deli\n",
       "21             21          missing"
      ]
     },
     "execution_count": 43,
     "metadata": {},
     "output_type": "execute_result"
    }
   ],
   "source": [
    "df_dept.reset_index()"
   ]
  },
  {
   "cell_type": "code",
   "execution_count": 44,
   "id": "63bed8f2",
   "metadata": {},
   "outputs": [],
   "source": [
    "# Take the first row of df_dep_t for the header\n",
    "\n",
    "new_header = df_dept.iloc[0]"
   ]
  },
  {
   "cell_type": "code",
   "execution_count": 45,
   "id": "79900d3e",
   "metadata": {},
   "outputs": [
    {
     "data": {
      "text/plain": [
       "0    department\n",
       "Name: department_id, dtype: object"
      ]
     },
     "execution_count": 45,
     "metadata": {},
     "output_type": "execute_result"
    }
   ],
   "source": [
    "new_header"
   ]
  },
  {
   "cell_type": "code",
   "execution_count": 46,
   "id": "6370826f",
   "metadata": {},
   "outputs": [],
   "source": [
    "df_dept_new = df_dept[1:]"
   ]
  },
  {
   "cell_type": "code",
   "execution_count": 47,
   "id": "8176a7c3",
   "metadata": {},
   "outputs": [
    {
     "data": {
      "text/html": [
       "<div>\n",
       "<style scoped>\n",
       "    .dataframe tbody tr th:only-of-type {\n",
       "        vertical-align: middle;\n",
       "    }\n",
       "\n",
       "    .dataframe tbody tr th {\n",
       "        vertical-align: top;\n",
       "    }\n",
       "\n",
       "    .dataframe thead th {\n",
       "        text-align: right;\n",
       "    }\n",
       "</style>\n",
       "<table border=\"1\" class=\"dataframe\">\n",
       "  <thead>\n",
       "    <tr style=\"text-align: right;\">\n",
       "      <th></th>\n",
       "      <th>0</th>\n",
       "    </tr>\n",
       "  </thead>\n",
       "  <tbody>\n",
       "    <tr>\n",
       "      <th>1</th>\n",
       "      <td>frozen</td>\n",
       "    </tr>\n",
       "    <tr>\n",
       "      <th>2</th>\n",
       "      <td>other</td>\n",
       "    </tr>\n",
       "    <tr>\n",
       "      <th>3</th>\n",
       "      <td>bakery</td>\n",
       "    </tr>\n",
       "    <tr>\n",
       "      <th>4</th>\n",
       "      <td>produce</td>\n",
       "    </tr>\n",
       "    <tr>\n",
       "      <th>5</th>\n",
       "      <td>alcohol</td>\n",
       "    </tr>\n",
       "    <tr>\n",
       "      <th>6</th>\n",
       "      <td>international</td>\n",
       "    </tr>\n",
       "    <tr>\n",
       "      <th>7</th>\n",
       "      <td>beverages</td>\n",
       "    </tr>\n",
       "    <tr>\n",
       "      <th>8</th>\n",
       "      <td>pets</td>\n",
       "    </tr>\n",
       "    <tr>\n",
       "      <th>9</th>\n",
       "      <td>dry goods pasta</td>\n",
       "    </tr>\n",
       "    <tr>\n",
       "      <th>10</th>\n",
       "      <td>bulk</td>\n",
       "    </tr>\n",
       "    <tr>\n",
       "      <th>11</th>\n",
       "      <td>personal care</td>\n",
       "    </tr>\n",
       "    <tr>\n",
       "      <th>12</th>\n",
       "      <td>meat seafood</td>\n",
       "    </tr>\n",
       "    <tr>\n",
       "      <th>13</th>\n",
       "      <td>pantry</td>\n",
       "    </tr>\n",
       "    <tr>\n",
       "      <th>14</th>\n",
       "      <td>breakfast</td>\n",
       "    </tr>\n",
       "    <tr>\n",
       "      <th>15</th>\n",
       "      <td>canned goods</td>\n",
       "    </tr>\n",
       "    <tr>\n",
       "      <th>16</th>\n",
       "      <td>dairy eggs</td>\n",
       "    </tr>\n",
       "    <tr>\n",
       "      <th>17</th>\n",
       "      <td>household</td>\n",
       "    </tr>\n",
       "    <tr>\n",
       "      <th>18</th>\n",
       "      <td>babies</td>\n",
       "    </tr>\n",
       "    <tr>\n",
       "      <th>19</th>\n",
       "      <td>snacks</td>\n",
       "    </tr>\n",
       "    <tr>\n",
       "      <th>20</th>\n",
       "      <td>deli</td>\n",
       "    </tr>\n",
       "    <tr>\n",
       "      <th>21</th>\n",
       "      <td>missing</td>\n",
       "    </tr>\n",
       "  </tbody>\n",
       "</table>\n",
       "</div>"
      ],
      "text/plain": [
       "                  0\n",
       "1            frozen\n",
       "2             other\n",
       "3            bakery\n",
       "4           produce\n",
       "5           alcohol\n",
       "6     international\n",
       "7         beverages\n",
       "8              pets\n",
       "9   dry goods pasta\n",
       "10             bulk\n",
       "11    personal care\n",
       "12     meat seafood\n",
       "13           pantry\n",
       "14        breakfast\n",
       "15     canned goods\n",
       "16       dairy eggs\n",
       "17        household\n",
       "18           babies\n",
       "19           snacks\n",
       "20             deli\n",
       "21          missing"
      ]
     },
     "execution_count": 47,
     "metadata": {},
     "output_type": "execute_result"
    }
   ],
   "source": [
    "df_dept_new"
   ]
  },
  {
   "cell_type": "code",
   "execution_count": 48,
   "id": "3f068e50",
   "metadata": {},
   "outputs": [],
   "source": [
    "df_dept_new.columns = new_header"
   ]
  },
  {
   "cell_type": "code",
   "execution_count": 49,
   "id": "c0e77645",
   "metadata": {},
   "outputs": [
    {
     "data": {
      "text/html": [
       "<div>\n",
       "<style scoped>\n",
       "    .dataframe tbody tr th:only-of-type {\n",
       "        vertical-align: middle;\n",
       "    }\n",
       "\n",
       "    .dataframe tbody tr th {\n",
       "        vertical-align: top;\n",
       "    }\n",
       "\n",
       "    .dataframe thead th {\n",
       "        text-align: right;\n",
       "    }\n",
       "</style>\n",
       "<table border=\"1\" class=\"dataframe\">\n",
       "  <thead>\n",
       "    <tr style=\"text-align: right;\">\n",
       "      <th>department_id</th>\n",
       "      <th>department</th>\n",
       "    </tr>\n",
       "  </thead>\n",
       "  <tbody>\n",
       "    <tr>\n",
       "      <th>1</th>\n",
       "      <td>frozen</td>\n",
       "    </tr>\n",
       "    <tr>\n",
       "      <th>2</th>\n",
       "      <td>other</td>\n",
       "    </tr>\n",
       "    <tr>\n",
       "      <th>3</th>\n",
       "      <td>bakery</td>\n",
       "    </tr>\n",
       "    <tr>\n",
       "      <th>4</th>\n",
       "      <td>produce</td>\n",
       "    </tr>\n",
       "    <tr>\n",
       "      <th>5</th>\n",
       "      <td>alcohol</td>\n",
       "    </tr>\n",
       "    <tr>\n",
       "      <th>6</th>\n",
       "      <td>international</td>\n",
       "    </tr>\n",
       "    <tr>\n",
       "      <th>7</th>\n",
       "      <td>beverages</td>\n",
       "    </tr>\n",
       "    <tr>\n",
       "      <th>8</th>\n",
       "      <td>pets</td>\n",
       "    </tr>\n",
       "    <tr>\n",
       "      <th>9</th>\n",
       "      <td>dry goods pasta</td>\n",
       "    </tr>\n",
       "    <tr>\n",
       "      <th>10</th>\n",
       "      <td>bulk</td>\n",
       "    </tr>\n",
       "    <tr>\n",
       "      <th>11</th>\n",
       "      <td>personal care</td>\n",
       "    </tr>\n",
       "    <tr>\n",
       "      <th>12</th>\n",
       "      <td>meat seafood</td>\n",
       "    </tr>\n",
       "    <tr>\n",
       "      <th>13</th>\n",
       "      <td>pantry</td>\n",
       "    </tr>\n",
       "    <tr>\n",
       "      <th>14</th>\n",
       "      <td>breakfast</td>\n",
       "    </tr>\n",
       "    <tr>\n",
       "      <th>15</th>\n",
       "      <td>canned goods</td>\n",
       "    </tr>\n",
       "    <tr>\n",
       "      <th>16</th>\n",
       "      <td>dairy eggs</td>\n",
       "    </tr>\n",
       "    <tr>\n",
       "      <th>17</th>\n",
       "      <td>household</td>\n",
       "    </tr>\n",
       "    <tr>\n",
       "      <th>18</th>\n",
       "      <td>babies</td>\n",
       "    </tr>\n",
       "    <tr>\n",
       "      <th>19</th>\n",
       "      <td>snacks</td>\n",
       "    </tr>\n",
       "    <tr>\n",
       "      <th>20</th>\n",
       "      <td>deli</td>\n",
       "    </tr>\n",
       "    <tr>\n",
       "      <th>21</th>\n",
       "      <td>missing</td>\n",
       "    </tr>\n",
       "  </tbody>\n",
       "</table>\n",
       "</div>"
      ],
      "text/plain": [
       "department_id       department\n",
       "1                       frozen\n",
       "2                        other\n",
       "3                       bakery\n",
       "4                      produce\n",
       "5                      alcohol\n",
       "6                international\n",
       "7                    beverages\n",
       "8                         pets\n",
       "9              dry goods pasta\n",
       "10                        bulk\n",
       "11               personal care\n",
       "12                meat seafood\n",
       "13                      pantry\n",
       "14                   breakfast\n",
       "15                canned goods\n",
       "16                  dairy eggs\n",
       "17                   household\n",
       "18                      babies\n",
       "19                      snacks\n",
       "20                        deli\n",
       "21                     missing"
      ]
     },
     "execution_count": 49,
     "metadata": {},
     "output_type": "execute_result"
    }
   ],
   "source": [
    "df_dept_new"
   ]
  },
  {
   "cell_type": "code",
   "execution_count": 50,
   "id": "40a04543",
   "metadata": {},
   "outputs": [],
   "source": [
    "data_dict = df_dept_new.to_dict('index')"
   ]
  },
  {
   "cell_type": "code",
   "execution_count": 51,
   "id": "58f3ed66",
   "metadata": {},
   "outputs": [
    {
     "data": {
      "text/plain": [
       "{'1': {'department': 'frozen'},\n",
       " '2': {'department': 'other'},\n",
       " '3': {'department': 'bakery'},\n",
       " '4': {'department': 'produce'},\n",
       " '5': {'department': 'alcohol'},\n",
       " '6': {'department': 'international'},\n",
       " '7': {'department': 'beverages'},\n",
       " '8': {'department': 'pets'},\n",
       " '9': {'department': 'dry goods pasta'},\n",
       " '10': {'department': 'bulk'},\n",
       " '11': {'department': 'personal care'},\n",
       " '12': {'department': 'meat seafood'},\n",
       " '13': {'department': 'pantry'},\n",
       " '14': {'department': 'breakfast'},\n",
       " '15': {'department': 'canned goods'},\n",
       " '16': {'department': 'dairy eggs'},\n",
       " '17': {'department': 'household'},\n",
       " '18': {'department': 'babies'},\n",
       " '19': {'department': 'snacks'},\n",
       " '20': {'department': 'deli'},\n",
       " '21': {'department': 'missing'}}"
      ]
     },
     "execution_count": 51,
     "metadata": {},
     "output_type": "execute_result"
    }
   ],
   "source": [
    "data_dict"
   ]
  },
  {
   "cell_type": "code",
   "execution_count": 14,
   "id": "ca3ef622",
   "metadata": {},
   "outputs": [],
   "source": [
    "df = ord_prod_cust_merge"
   ]
  },
  {
   "cell_type": "code",
   "execution_count": 15,
   "id": "803aac29",
   "metadata": {},
   "outputs": [],
   "source": [
    "# Create Age Ranges\n",
    "\n",
    "df.loc[(df['Age'] >= 18) & (df['Age'] <= 25), 'Age Range'] = '18-25'"
   ]
  },
  {
   "cell_type": "code",
   "execution_count": 16,
   "id": "46be2e56",
   "metadata": {},
   "outputs": [],
   "source": [
    "df.loc[(df['Age'] >= 26) & (df['Age'] <= 40), 'Age Range'] = '26-40'"
   ]
  },
  {
   "cell_type": "code",
   "execution_count": 17,
   "id": "24e1e81c",
   "metadata": {},
   "outputs": [],
   "source": [
    "df.loc[(df['Age'] >= 41) & (df['Age'] <= 55), 'Age Range'] = '41-55'"
   ]
  },
  {
   "cell_type": "code",
   "execution_count": 18,
   "id": "255de669",
   "metadata": {},
   "outputs": [],
   "source": [
    "df.loc[(df['Age'] >= 56) & (df['Age'] <= 70), 'Age Range'] = '56-70'"
   ]
  },
  {
   "cell_type": "code",
   "execution_count": 19,
   "id": "46c67cb3",
   "metadata": {},
   "outputs": [],
   "source": [
    "df.loc[df['Age'] > 70, 'Age Range'] = 'Over 70'"
   ]
  },
  {
   "cell_type": "code",
   "execution_count": 20,
   "id": "bc41a4b0",
   "metadata": {},
   "outputs": [
    {
     "data": {
      "text/plain": [
       "41-55      7649935\n",
       "26-40      7631727\n",
       "56-70      7521199\n",
       "Over 70    5583062\n",
       "18-25      4049136\n",
       "Name: Age Range, dtype: int64"
      ]
     },
     "execution_count": 20,
     "metadata": {},
     "output_type": "execute_result"
    }
   ],
   "source": [
    "df['Age Range'].value_counts(dropna = False)"
   ]
  },
  {
   "cell_type": "code",
   "execution_count": 21,
   "id": "2f596858",
   "metadata": {},
   "outputs": [],
   "source": [
    "# Create Income Ranges\n",
    "\n",
    "df.loc[df['income'] < 50000, 'Income Range'] = 'Less than 50k'"
   ]
  },
  {
   "cell_type": "code",
   "execution_count": 22,
   "id": "bc7c15d1",
   "metadata": {},
   "outputs": [],
   "source": [
    "df.loc[(df['income'] >= 51000) & (df['income'] <= 75000), 'Income Range'] = '51k - 75k'"
   ]
  },
  {
   "cell_type": "code",
   "execution_count": 23,
   "id": "739c8142",
   "metadata": {},
   "outputs": [],
   "source": [
    "df.loc[(df['income'] >= 76000) & (df['income'] <= 100000), 'Income Range'] = '76k - 100k'"
   ]
  },
  {
   "cell_type": "code",
   "execution_count": 24,
   "id": "26f6b6ef",
   "metadata": {},
   "outputs": [],
   "source": [
    "df.loc[(df['income'] >= 101000) & (df['income'] <= 150000), 'Income Range'] = '101k - 150k'"
   ]
  },
  {
   "cell_type": "code",
   "execution_count": 25,
   "id": "363bea3b",
   "metadata": {},
   "outputs": [],
   "source": [
    "df.loc[df['income'] > 150000, 'Income Range'] = 'More than 510k'"
   ]
  },
  {
   "cell_type": "code",
   "execution_count": 26,
   "id": "33681203",
   "metadata": {},
   "outputs": [
    {
     "data": {
      "text/plain": [
       "101k - 150k       10368347\n",
       "76k - 100k         6931665\n",
       "51k - 75k          6723914\n",
       "More than 510k     4054496\n",
       "Less than 50k      3597945\n",
       "NaN                 758692\n",
       "Name: Income Range, dtype: int64"
      ]
     },
     "execution_count": 26,
     "metadata": {},
     "output_type": "execute_result"
    }
   ],
   "source": [
    "df['Income Range'].value_counts(dropna = False)"
   ]
  },
  {
   "cell_type": "code",
   "execution_count": 27,
   "id": "d8dc706e",
   "metadata": {},
   "outputs": [
    {
     "data": {
      "text/plain": [
       "married                             22777499\n",
       "single                               5330885\n",
       "divorced/widowed                     2774460\n",
       "living with parents and siblings     1552215\n",
       "Name: fam_status, dtype: int64"
      ]
     },
     "execution_count": 27,
     "metadata": {},
     "output_type": "execute_result"
    }
   ],
   "source": [
    "df['fam_status'].value_counts(dropna = False)"
   ]
  },
  {
   "cell_type": "code",
   "execution_count": 28,
   "id": "24d9fad6",
   "metadata": {},
   "outputs": [],
   "source": [
    "df.loc[(df['fam_status'].isin(['single','divorced/widowed'])) & (df['dependants'].isin([1,2,3,4,5,6,7,8,9])),'Family Customer Profile'] = \"Single Parent\""
   ]
  },
  {
   "cell_type": "code",
   "execution_count": 29,
   "id": "3c9beb49",
   "metadata": {},
   "outputs": [],
   "source": [
    "df.loc[(df['fam_status'].isin(['single'])) & (df['dependants'].isin([0])),'Family Customer Profile'] = \"Single Adult\""
   ]
  },
  {
   "cell_type": "code",
   "execution_count": 30,
   "id": "2e6736c0",
   "metadata": {},
   "outputs": [],
   "source": [
    "df.loc[(df['fam_status'].isin(['married'])) & (df['dependants'].isin([1,2,3,4,5,6,7,8,9])) & (df['Income Range'].isin(['Less than 50k'])), 'Family Customer Profile'] = \"Lower Class Family\""
   ]
  },
  {
   "cell_type": "code",
   "execution_count": 31,
   "id": "dc08bc2a",
   "metadata": {},
   "outputs": [],
   "source": [
    "df.loc[(df['fam_status'].isin(['married'])) & (df['dependants'].isin([1,2,3,4,5,6,7,8,9])) & (df['Income Range'].isin(['51k - 75k','76k - 100k','101k - 150k'])), 'Family Customer Profile'] = \"Middle Class Family\""
   ]
  },
  {
   "cell_type": "code",
   "execution_count": 32,
   "id": "efc82691",
   "metadata": {},
   "outputs": [],
   "source": [
    "df.loc[(df['fam_status'].isin(['married'])) & (df['dependants'].isin([1,2,3,4,5,6,7,8,9])) & (df['Income Range'].isin(['More than 510k'])), 'Family Customer Profile'] = \"Upper Class Family\""
   ]
  },
  {
   "cell_type": "code",
   "execution_count": 33,
   "id": "b2e20d4a",
   "metadata": {},
   "outputs": [
    {
     "data": {
      "text/plain": [
       "Middle Class Family    16792518\n",
       "Single Adult            5330885\n",
       "NaN                     4850917\n",
       "Upper Class Family      3003468\n",
       "Lower Class Family      2457271\n",
       "Name: Family Customer Profile, dtype: int64"
      ]
     },
     "execution_count": 33,
     "metadata": {},
     "output_type": "execute_result"
    }
   ],
   "source": [
    "df['Family Customer Profile'].value_counts(dropna = False)"
   ]
  },
  {
   "cell_type": "code",
   "execution_count": 42,
   "id": "7314bdb5",
   "metadata": {},
   "outputs": [
    {
     "data": {
      "image/png": "[encoded data removed]",
      "text/plain": [
       "<Figure size 432x288 with 1 Axes>"
      ]
     },
     "metadata": {
      "needs_background": "light"
     },
     "output_type": "display_data"
    }
   ],
   "source": [
    "# Create bar graph for distribution of family-types\n",
    "\n",
    "bar1 = df_fam_bar['Family Customer Profile'].value_counts().plot.bar()"
   ]
  },
  {
   "cell_type": "code",
   "execution_count": 43,
   "id": "161f415a",
   "metadata": {},
   "outputs": [],
   "source": [
    "# Export bar graph\n",
    "\n",
    "bar1.figure.savefig(os.path.join(path, '04 Analysis','Visualizations', 'bar_fam_cust_prof.png'))"
   ]
  },
  {
   "cell_type": "code",
   "execution_count": 88,
   "id": "90f3088b",
   "metadata": {},
   "outputs": [
    {
     "data": {
      "image/png": "[encoded data removed]",
      "text/plain": [
       "<Figure size 432x288 with 1 Axes>"
      ]
     },
     "metadata": {
      "needs_background": "light"
     },
     "output_type": "display_data"
    }
   ],
   "source": [
    "# Create bar graph for distribution of age range\n",
    "\n",
    "bar2 = df['Age Range'].value_counts().sort_index().plot.bar()"
   ]
  },
  {
   "cell_type": "code",
   "execution_count": 89,
   "id": "f771f198",
   "metadata": {},
   "outputs": [],
   "source": [
    "# Export bar graph\n",
    "\n",
    "bar2.figure.savefig(os.path.join(path, '04 Analysis','Visualizations', 'bar_fam_cust_prof.png'))"
   ]
  },
  {
   "cell_type": "code",
   "execution_count": 44,
   "id": "3dea683f",
   "metadata": {},
   "outputs": [
    {
     "data": {
      "text/plain": [
       "<AxesSubplot:>"
      ]
     },
     "execution_count": 44,
     "metadata": {},
     "output_type": "execute_result"
    },
    {
     "data": {
      "image/png": "[encoded data removed]",
      "text/plain": [
       "<Figure size 432x288 with 1 Axes>"
      ]
     },
     "metadata": {
      "needs_background": "light"
     },
     "output_type": "display_data"
    }
   ],
   "source": [
    "df['Region'].value_counts().plot.bar()"
   ]
  },
  {
   "cell_type": "code",
   "execution_count": 47,
   "id": "e2e8dcbc",
   "metadata": {},
   "outputs": [
    {
     "data": {
      "image/png": "[encoded data removed]",
      "text/plain": [
       "<Figure size 432x288 with 1 Axes>"
      ]
     },
     "metadata": {
      "needs_background": "light"
     },
     "output_type": "display_data"
    }
   ],
   "source": [
    "# Histogram showing frequency of orders\n",
    "\n",
    "hist3 = df['days_since_prior_order'].plot.hist(bins = 70)"
   ]
  },
  {
   "cell_type": "code",
   "execution_count": 48,
   "id": "89c2cc92",
   "metadata": {},
   "outputs": [],
   "source": [
    "hist3.figure.savefig(os.path.join(path, '04 Analysis','Visualizations', 'hist_dspo.png'))"
   ]
  },
  {
   "cell_type": "code",
   "execution_count": 49,
   "id": "7eb79f05",
   "metadata": {},
   "outputs": [
    {
     "data": {
      "text/plain": [
       "<AxesSubplot:xlabel='days_since_prior_order', ylabel='Age'>"
      ]
     },
     "execution_count": 49,
     "metadata": {},
     "output_type": "execute_result"
    },
    {
     "data": {
      "image/png": "[encoded data removed]",
      "text/plain": [
       "<Figure size 432x288 with 1 Axes>"
      ]
     },
     "metadata": {
      "needs_background": "light"
     },
     "output_type": "display_data"
    }
   ],
   "source": [
    "sns.scatterplot(x = 'days_since_prior_order', y = 'Age',data = ord_prod_cust_merge)"
   ]
  },
  {
   "cell_type": "code",
   "execution_count": 34,
   "id": "97f5d69a",
   "metadata": {},
   "outputs": [],
   "source": [
    "crosstab2 = pd.crosstab(df['fam_status'], df['days_since_prior_order'], dropna = False)"
   ]
  },
  {
   "cell_type": "code",
   "execution_count": 35,
   "id": "3e70c928",
   "metadata": {},
   "outputs": [
    {
     "data": {
      "text/html": [
       "<div>\n",
       "<style scoped>\n",
       "    .dataframe tbody tr th:only-of-type {\n",
       "        vertical-align: middle;\n",
       "    }\n",
       "\n",
       "    .dataframe tbody tr th {\n",
       "        vertical-align: top;\n",
       "    }\n",
       "\n",
       "    .dataframe thead th {\n",
       "        text-align: right;\n",
       "    }\n",
       "</style>\n",
       "<table border=\"1\" class=\"dataframe\">\n",
       "  <thead>\n",
       "    <tr style=\"text-align: right;\">\n",
       "      <th>days_since_prior_order</th>\n",
       "      <th>0.0</th>\n",
       "      <th>0.5</th>\n",
       "      <th>1.0</th>\n",
       "      <th>1.5</th>\n",
       "      <th>2.0</th>\n",
       "      <th>2.5</th>\n",
       "      <th>3.0</th>\n",
       "      <th>3.5</th>\n",
       "      <th>4.0</th>\n",
       "      <th>4.5</th>\n",
       "      <th>...</th>\n",
       "      <th>25.5</th>\n",
       "      <th>26.0</th>\n",
       "      <th>26.5</th>\n",
       "      <th>27.0</th>\n",
       "      <th>27.5</th>\n",
       "      <th>28.0</th>\n",
       "      <th>28.5</th>\n",
       "      <th>29.0</th>\n",
       "      <th>29.5</th>\n",
       "      <th>30.0</th>\n",
       "    </tr>\n",
       "    <tr>\n",
       "      <th>fam_status</th>\n",
       "      <th></th>\n",
       "      <th></th>\n",
       "      <th></th>\n",
       "      <th></th>\n",
       "      <th></th>\n",
       "      <th></th>\n",
       "      <th></th>\n",
       "      <th></th>\n",
       "      <th></th>\n",
       "      <th></th>\n",
       "      <th></th>\n",
       "      <th></th>\n",
       "      <th></th>\n",
       "      <th></th>\n",
       "      <th></th>\n",
       "      <th></th>\n",
       "      <th></th>\n",
       "      <th></th>\n",
       "      <th></th>\n",
       "      <th></th>\n",
       "      <th></th>\n",
       "    </tr>\n",
       "  </thead>\n",
       "  <tbody>\n",
       "    <tr>\n",
       "      <th>divorced/widowed</th>\n",
       "      <td>9124</td>\n",
       "      <td>19</td>\n",
       "      <td>10341</td>\n",
       "      <td>151</td>\n",
       "      <td>48789</td>\n",
       "      <td>319</td>\n",
       "      <td>137336</td>\n",
       "      <td>703</td>\n",
       "      <td>204599</td>\n",
       "      <td>1692</td>\n",
       "      <td>...</td>\n",
       "      <td>427</td>\n",
       "      <td>12477</td>\n",
       "      <td>206</td>\n",
       "      <td>15334</td>\n",
       "      <td>307</td>\n",
       "      <td>19362</td>\n",
       "      <td>571</td>\n",
       "      <td>12208</td>\n",
       "      <td>560</td>\n",
       "      <td>143165</td>\n",
       "    </tr>\n",
       "    <tr>\n",
       "      <th>living with parents and siblings</th>\n",
       "      <td>2190</td>\n",
       "      <td>0</td>\n",
       "      <td>8884</td>\n",
       "      <td>33</td>\n",
       "      <td>24733</td>\n",
       "      <td>46</td>\n",
       "      <td>68925</td>\n",
       "      <td>575</td>\n",
       "      <td>125050</td>\n",
       "      <td>1303</td>\n",
       "      <td>...</td>\n",
       "      <td>504</td>\n",
       "      <td>8970</td>\n",
       "      <td>233</td>\n",
       "      <td>7326</td>\n",
       "      <td>447</td>\n",
       "      <td>9326</td>\n",
       "      <td>306</td>\n",
       "      <td>7850</td>\n",
       "      <td>430</td>\n",
       "      <td>78649</td>\n",
       "    </tr>\n",
       "    <tr>\n",
       "      <th>married</th>\n",
       "      <td>17881</td>\n",
       "      <td>205</td>\n",
       "      <td>110200</td>\n",
       "      <td>857</td>\n",
       "      <td>392185</td>\n",
       "      <td>6602</td>\n",
       "      <td>1030235</td>\n",
       "      <td>8281</td>\n",
       "      <td>1613290</td>\n",
       "      <td>21676</td>\n",
       "      <td>...</td>\n",
       "      <td>5596</td>\n",
       "      <td>115345</td>\n",
       "      <td>3726</td>\n",
       "      <td>121860</td>\n",
       "      <td>3768</td>\n",
       "      <td>136922</td>\n",
       "      <td>4397</td>\n",
       "      <td>97959</td>\n",
       "      <td>3032</td>\n",
       "      <td>1189213</td>\n",
       "    </tr>\n",
       "    <tr>\n",
       "      <th>single</th>\n",
       "      <td>5042</td>\n",
       "      <td>35</td>\n",
       "      <td>22426</td>\n",
       "      <td>17</td>\n",
       "      <td>95792</td>\n",
       "      <td>387</td>\n",
       "      <td>245936</td>\n",
       "      <td>2131</td>\n",
       "      <td>372552</td>\n",
       "      <td>3891</td>\n",
       "      <td>...</td>\n",
       "      <td>1198</td>\n",
       "      <td>25415</td>\n",
       "      <td>1316</td>\n",
       "      <td>29117</td>\n",
       "      <td>1188</td>\n",
       "      <td>34560</td>\n",
       "      <td>1507</td>\n",
       "      <td>19171</td>\n",
       "      <td>995</td>\n",
       "      <td>273605</td>\n",
       "    </tr>\n",
       "  </tbody>\n",
       "</table>\n",
       "<p>4 rows × 61 columns</p>\n",
       "</div>"
      ],
      "text/plain": [
       "days_since_prior_order             0.0   0.5     1.0   1.5     2.0   2.5   \\\n",
       "fam_status                                                                  \n",
       "divorced/widowed                   9124    19   10341   151   48789   319   \n",
       "living with parents and siblings   2190     0    8884    33   24733    46   \n",
       "married                           17881   205  110200   857  392185  6602   \n",
       "single                             5042    35   22426    17   95792   387   \n",
       "\n",
       "days_since_prior_order               3.0   3.5      4.0    4.5   ...  25.5  \\\n",
       "fam_status                                                       ...         \n",
       "divorced/widowed                   137336   703   204599   1692  ...   427   \n",
       "living with parents and siblings    68925   575   125050   1303  ...   504   \n",
       "married                           1030235  8281  1613290  21676  ...  5596   \n",
       "single                             245936  2131   372552   3891  ...  1198   \n",
       "\n",
       "days_since_prior_order              26.0  26.5    27.0  27.5    28.0  28.5  \\\n",
       "fam_status                                                                   \n",
       "divorced/widowed                   12477   206   15334   307   19362   571   \n",
       "living with parents and siblings    8970   233    7326   447    9326   306   \n",
       "married                           115345  3726  121860  3768  136922  4397   \n",
       "single                             25415  1316   29117  1188   34560  1507   \n",
       "\n",
       "days_since_prior_order             29.0  29.5     30.0  \n",
       "fam_status                                              \n",
       "divorced/widowed                  12208   560   143165  \n",
       "living with parents and siblings   7850   430    78649  \n",
       "married                           97959  3032  1189213  \n",
       "single                            19171   995   273605  \n",
       "\n",
       "[4 rows x 61 columns]"
      ]
     },
     "execution_count": 35,
     "metadata": {},
     "output_type": "execute_result"
    }
   ],
   "source": [
    "crosstab2"
   ]
  },
  {
   "cell_type": "code",
   "execution_count": 54,
   "id": "c21df6e4",
   "metadata": {},
   "outputs": [
    {
     "data": {
      "image/png": "[encoded data removed]",
      "text/plain": [
       "<Figure size 432x288 with 1 Axes>"
      ]
     },
     "metadata": {
      "needs_background": "light"
     },
     "output_type": "display_data"
    }
   ],
   "source": [
    "bar4 = df['department_id'].value_counts().plot.bar()"
   ]
  },
  {
   "cell_type": "code",
   "execution_count": 52,
   "id": "edc7e549",
   "metadata": {},
   "outputs": [
    {
     "data": {
      "text/html": [
       "<div>\n",
       "<style scoped>\n",
       "    .dataframe tbody tr th:only-of-type {\n",
       "        vertical-align: middle;\n",
       "    }\n",
       "\n",
       "    .dataframe tbody tr th {\n",
       "        vertical-align: top;\n",
       "    }\n",
       "\n",
       "    .dataframe thead th {\n",
       "        text-align: right;\n",
       "    }\n",
       "</style>\n",
       "<table border=\"1\" class=\"dataframe\">\n",
       "  <thead>\n",
       "    <tr style=\"text-align: right;\">\n",
       "      <th>department_id</th>\n",
       "      <th>department</th>\n",
       "    </tr>\n",
       "  </thead>\n",
       "  <tbody>\n",
       "    <tr>\n",
       "      <th>1</th>\n",
       "      <td>frozen</td>\n",
       "    </tr>\n",
       "    <tr>\n",
       "      <th>2</th>\n",
       "      <td>other</td>\n",
       "    </tr>\n",
       "    <tr>\n",
       "      <th>3</th>\n",
       "      <td>bakery</td>\n",
       "    </tr>\n",
       "    <tr>\n",
       "      <th>4</th>\n",
       "      <td>produce</td>\n",
       "    </tr>\n",
       "    <tr>\n",
       "      <th>5</th>\n",
       "      <td>alcohol</td>\n",
       "    </tr>\n",
       "  </tbody>\n",
       "</table>\n",
       "</div>"
      ],
      "text/plain": [
       "department_id department\n",
       "1                 frozen\n",
       "2                  other\n",
       "3                 bakery\n",
       "4                produce\n",
       "5                alcohol"
      ]
     },
     "execution_count": 52,
     "metadata": {},
     "output_type": "execute_result"
    }
   ],
   "source": [
    "df_dept_new.head()"
   ]
  },
  {
   "cell_type": "code",
   "execution_count": 35,
   "id": "2d3182e4",
   "metadata": {},
   "outputs": [],
   "source": [
    "df.loc[df['department_id'] == 1, 'Department'] = \"frozen\""
   ]
  },
  {
   "cell_type": "code",
   "execution_count": 36,
   "id": "6d98d312",
   "metadata": {},
   "outputs": [],
   "source": [
    "df.loc[df['department_id'] == 2, 'Department'] = \"other\""
   ]
  },
  {
   "cell_type": "code",
   "execution_count": 37,
   "id": "5a0ef49b",
   "metadata": {},
   "outputs": [],
   "source": [
    "df.loc[df['department_id'] == 3, 'Department'] = \"bakery\""
   ]
  },
  {
   "cell_type": "code",
   "execution_count": 38,
   "id": "b6976fb7",
   "metadata": {},
   "outputs": [],
   "source": [
    "df.loc[df['department_id'] == 4, 'Department'] = \"produce\""
   ]
  },
  {
   "cell_type": "code",
   "execution_count": 39,
   "id": "5f225ff4",
   "metadata": {},
   "outputs": [],
   "source": [
    "df.loc[df['department_id'] == 5, 'Department'] = \"alcohol\""
   ]
  },
  {
   "cell_type": "code",
   "execution_count": 40,
   "id": "66e4ac70",
   "metadata": {},
   "outputs": [],
   "source": [
    "df.loc[df['department_id'] == 6, 'Department'] = \"international\""
   ]
  },
  {
   "cell_type": "code",
   "execution_count": 41,
   "id": "fad41601",
   "metadata": {},
   "outputs": [],
   "source": [
    "df.loc[df['department_id'] == 7, 'Department'] = \"beverages\""
   ]
  },
  {
   "cell_type": "code",
   "execution_count": 42,
   "id": "eb010f26",
   "metadata": {},
   "outputs": [],
   "source": [
    "df.loc[df['department_id'] == 8, 'Department'] = \"pets\""
   ]
  },
  {
   "cell_type": "code",
   "execution_count": 43,
   "id": "2714224f",
   "metadata": {},
   "outputs": [],
   "source": [
    "df.loc[df['department_id'] == 9, 'Department'] = \"dry goods pasta\""
   ]
  },
  {
   "cell_type": "code",
   "execution_count": 44,
   "id": "5d64254c",
   "metadata": {},
   "outputs": [],
   "source": [
    "df.loc[df['department_id'] == 10, 'Department'] = \"bulk\""
   ]
  },
  {
   "cell_type": "code",
   "execution_count": 45,
   "id": "af8c8f32",
   "metadata": {},
   "outputs": [],
   "source": [
    "df.loc[df['department_id'] == 11, 'Department'] = \"personal care\""
   ]
  },
  {
   "cell_type": "code",
   "execution_count": 46,
   "id": "4f04ee9a",
   "metadata": {},
   "outputs": [],
   "source": [
    "df.loc[df['department_id'] == 12, 'Department'] = \"meat seafood\""
   ]
  },
  {
   "cell_type": "code",
   "execution_count": 47,
   "id": "c1512f36",
   "metadata": {},
   "outputs": [],
   "source": [
    "df.loc[df['department_id'] == 13, 'Department'] = \"pantry\""
   ]
  },
  {
   "cell_type": "code",
   "execution_count": 48,
   "id": "5ff97990",
   "metadata": {},
   "outputs": [],
   "source": [
    "df.loc[df['department_id'] == 14, 'Department'] = \"breakfast\""
   ]
  },
  {
   "cell_type": "code",
   "execution_count": 49,
   "id": "5cdf8676",
   "metadata": {},
   "outputs": [],
   "source": [
    "df.loc[df['department_id'] == 15, 'Department'] = \"canned goods\""
   ]
  },
  {
   "cell_type": "code",
   "execution_count": 50,
   "id": "497f6c3d",
   "metadata": {},
   "outputs": [],
   "source": [
    "df.loc[df['department_id'] == 16, 'Department'] = \"dairy eggs\""
   ]
  },
  {
   "cell_type": "code",
   "execution_count": 51,
   "id": "e0f31b2a",
   "metadata": {},
   "outputs": [],
   "source": [
    "df.loc[df['department_id'] == 17, 'Department'] = \"household\""
   ]
  },
  {
   "cell_type": "code",
   "execution_count": 52,
   "id": "abdb2bba",
   "metadata": {},
   "outputs": [],
   "source": [
    "df.loc[df['department_id'] == 18, 'Department'] = \"babies\""
   ]
  },
  {
   "cell_type": "code",
   "execution_count": 53,
   "id": "7d2d601b",
   "metadata": {},
   "outputs": [],
   "source": [
    "df.loc[df['department_id'] == 19, 'Department'] = \"snacks\""
   ]
  },
  {
   "cell_type": "code",
   "execution_count": 54,
   "id": "ac8019f1",
   "metadata": {},
   "outputs": [],
   "source": [
    "df.loc[df['department_id'] == 20, 'Department'] = \"deli\""
   ]
  },
  {
   "cell_type": "code",
   "execution_count": 55,
   "id": "b689e7de",
   "metadata": {},
   "outputs": [],
   "source": [
    "df.loc[df['department_id'] == 21, 'Department'] = \"missing\""
   ]
  },
  {
   "cell_type": "code",
   "execution_count": 80,
   "id": "2f331b49",
   "metadata": {},
   "outputs": [
    {
     "data": {
      "image/png": "[encoded data removed]",
      "text/plain": [
       "<Figure size 432x288 with 1 Axes>"
      ]
     },
     "metadata": {
      "needs_background": "light"
     },
     "output_type": "display_data"
    }
   ],
   "source": [
    "bar5 = df['Department'].value_counts().plot.bar()"
   ]
  },
  {
   "cell_type": "code",
   "execution_count": 81,
   "id": "e6629b77",
   "metadata": {},
   "outputs": [],
   "source": [
    "# Export bar graph\n",
    "\n",
    "bar5.figure.savefig(os.path.join(path, '04 Analysis','Visualizations', 'bar_dept_freq.png'))"
   ]
  },
  {
   "cell_type": "code",
   "execution_count": null,
   "id": "fdd9b4c5",
   "metadata": {},
   "outputs": [],
   "source": [
    "crosstab3 = pd.crosstab(df['loyalty_flag2'], df['loyalty_flag'], dropna = False)"
   ]
  },
  {
   "cell_type": "code",
   "execution_count": 86,
   "id": "2bebd0cb",
   "metadata": {},
   "outputs": [
    {
     "data": {
      "text/html": [
       "<div>\n",
       "<style scoped>\n",
       "    .dataframe tbody tr th:only-of-type {\n",
       "        vertical-align: middle;\n",
       "    }\n",
       "\n",
       "    .dataframe tbody tr th {\n",
       "        vertical-align: top;\n",
       "    }\n",
       "\n",
       "    .dataframe thead th {\n",
       "        text-align: right;\n",
       "    }\n",
       "</style>\n",
       "<table border=\"1\" class=\"dataframe\">\n",
       "  <thead>\n",
       "    <tr style=\"text-align: right;\">\n",
       "      <th>loyalty_flag</th>\n",
       "      <th>High Spender</th>\n",
       "      <th>Low Spender</th>\n",
       "    </tr>\n",
       "    <tr>\n",
       "      <th>loyalty_flag2</th>\n",
       "      <th></th>\n",
       "      <th></th>\n",
       "    </tr>\n",
       "  </thead>\n",
       "  <tbody>\n",
       "    <tr>\n",
       "      <th>Loyal customer</th>\n",
       "      <td>216809</td>\n",
       "      <td>10077218</td>\n",
       "    </tr>\n",
       "    <tr>\n",
       "      <th>New customer</th>\n",
       "      <td>114925</td>\n",
       "      <td>6134600</td>\n",
       "    </tr>\n",
       "    <tr>\n",
       "      <th>Regular customer</th>\n",
       "      <td>302944</td>\n",
       "      <td>15588563</td>\n",
       "    </tr>\n",
       "  </tbody>\n",
       "</table>\n",
       "</div>"
      ],
      "text/plain": [
       "loyalty_flag      High Spender  Low Spender\n",
       "loyalty_flag2                              \n",
       "Loyal customer          216809     10077218\n",
       "New customer            114925      6134600\n",
       "Regular customer        302944     15588563"
      ]
     },
     "execution_count": 86,
     "metadata": {},
     "output_type": "execute_result"
    }
   ],
   "source": [
    "crosstab3"
   ]
  },
  {
   "cell_type": "code",
   "execution_count": 57,
   "id": "25246e20",
   "metadata": {},
   "outputs": [
    {
     "data": {
      "text/html": [
       "<div>\n",
       "<style scoped>\n",
       "    .dataframe tbody tr th:only-of-type {\n",
       "        vertical-align: middle;\n",
       "    }\n",
       "\n",
       "    .dataframe tbody tr th {\n",
       "        vertical-align: top;\n",
       "    }\n",
       "\n",
       "    .dataframe thead tr th {\n",
       "        text-align: left;\n",
       "    }\n",
       "\n",
       "    .dataframe thead tr:last-of-type th {\n",
       "        text-align: right;\n",
       "    }\n",
       "</style>\n",
       "<table border=\"1\" class=\"dataframe\">\n",
       "  <thead>\n",
       "    <tr>\n",
       "      <th></th>\n",
       "      <th colspan=\"3\" halign=\"left\">prices</th>\n",
       "    </tr>\n",
       "    <tr>\n",
       "      <th></th>\n",
       "      <th>mean</th>\n",
       "      <th>min</th>\n",
       "      <th>max</th>\n",
       "    </tr>\n",
       "    <tr>\n",
       "      <th>Family Customer Profile</th>\n",
       "      <th></th>\n",
       "      <th></th>\n",
       "      <th></th>\n",
       "    </tr>\n",
       "  </thead>\n",
       "  <tbody>\n",
       "    <tr>\n",
       "      <th>Lower Class Family</th>\n",
       "      <td>6.676529</td>\n",
       "      <td>1.0</td>\n",
       "      <td>25.0</td>\n",
       "    </tr>\n",
       "    <tr>\n",
       "      <th>Middle Class Family</th>\n",
       "      <td>9.286114</td>\n",
       "      <td>1.0</td>\n",
       "      <td>99999.0</td>\n",
       "    </tr>\n",
       "    <tr>\n",
       "      <th>Single Adult</th>\n",
       "      <td>12.480849</td>\n",
       "      <td>1.0</td>\n",
       "      <td>99999.0</td>\n",
       "    </tr>\n",
       "    <tr>\n",
       "      <th>Upper Class Family</th>\n",
       "      <td>32.186799</td>\n",
       "      <td>1.0</td>\n",
       "      <td>99999.0</td>\n",
       "    </tr>\n",
       "  </tbody>\n",
       "</table>\n",
       "</div>"
      ],
      "text/plain": [
       "                            prices              \n",
       "                              mean  min      max\n",
       "Family Customer Profile                         \n",
       "Lower Class Family        6.676529  1.0     25.0\n",
       "Middle Class Family       9.286114  1.0  99999.0\n",
       "Single Adult             12.480849  1.0  99999.0\n",
       "Upper Class Family       32.186799  1.0  99999.0"
      ]
     },
     "execution_count": 57,
     "metadata": {},
     "output_type": "execute_result"
    }
   ],
   "source": [
    "# Agg Metrics Customer Profile Usage Expenditure\n",
    "\n",
    "df.groupby('Family Customer Profile').agg({'prices': ['mean', 'min', 'max']})"
   ]
  },
  {
   "cell_type": "code",
   "execution_count": 59,
   "id": "01c9eb61",
   "metadata": {},
   "outputs": [
    {
     "data": {
      "text/html": [
       "<div>\n",
       "<style scoped>\n",
       "    .dataframe tbody tr th:only-of-type {\n",
       "        vertical-align: middle;\n",
       "    }\n",
       "\n",
       "    .dataframe tbody tr th {\n",
       "        vertical-align: top;\n",
       "    }\n",
       "\n",
       "    .dataframe thead tr th {\n",
       "        text-align: left;\n",
       "    }\n",
       "\n",
       "    .dataframe thead tr:last-of-type th {\n",
       "        text-align: right;\n",
       "    }\n",
       "</style>\n",
       "<table border=\"1\" class=\"dataframe\">\n",
       "  <thead>\n",
       "    <tr>\n",
       "      <th></th>\n",
       "      <th colspan=\"3\" halign=\"left\">days_since_prior_order</th>\n",
       "    </tr>\n",
       "    <tr>\n",
       "      <th></th>\n",
       "      <th>mean</th>\n",
       "      <th>min</th>\n",
       "      <th>max</th>\n",
       "    </tr>\n",
       "    <tr>\n",
       "      <th>Family Customer Profile</th>\n",
       "      <th></th>\n",
       "      <th></th>\n",
       "      <th></th>\n",
       "    </tr>\n",
       "  </thead>\n",
       "  <tbody>\n",
       "    <tr>\n",
       "      <th>Lower Class Family</th>\n",
       "      <td>11.148438</td>\n",
       "      <td>0.0</td>\n",
       "      <td>30.0</td>\n",
       "    </tr>\n",
       "    <tr>\n",
       "      <th>Middle Class Family</th>\n",
       "      <td>10.343750</td>\n",
       "      <td>0.0</td>\n",
       "      <td>30.0</td>\n",
       "    </tr>\n",
       "    <tr>\n",
       "      <th>Single Adult</th>\n",
       "      <td>10.398438</td>\n",
       "      <td>0.0</td>\n",
       "      <td>30.0</td>\n",
       "    </tr>\n",
       "    <tr>\n",
       "      <th>Upper Class Family</th>\n",
       "      <td>10.226562</td>\n",
       "      <td>0.0</td>\n",
       "      <td>30.0</td>\n",
       "    </tr>\n",
       "  </tbody>\n",
       "</table>\n",
       "</div>"
      ],
      "text/plain": [
       "                        days_since_prior_order           \n",
       "                                          mean  min   max\n",
       "Family Customer Profile                                  \n",
       "Lower Class Family                   11.148438  0.0  30.0\n",
       "Middle Class Family                  10.343750  0.0  30.0\n",
       "Single Adult                         10.398438  0.0  30.0\n",
       "Upper Class Family                   10.226562  0.0  30.0"
      ]
     },
     "execution_count": 59,
     "metadata": {},
     "output_type": "execute_result"
    }
   ],
   "source": [
    "# Agg Metrics Customer Profile Usage Frequency\n",
    "\n",
    "df.groupby('Family Customer Profile').agg({'days_since_prior_order': ['mean', 'min', 'max']})"
   ]
  },
  {
   "cell_type": "code",
   "execution_count": 60,
   "id": "f95b9f00",
   "metadata": {},
   "outputs": [],
   "source": [
    "# Comparing customer profile by region\n",
    "\n",
    "crosstab4 = pd.crosstab(df['Region'], df['Family Customer Profile'], dropna = False)"
   ]
  },
  {
   "cell_type": "code",
   "execution_count": 61,
   "id": "e773cfd3",
   "metadata": {},
   "outputs": [
    {
     "data": {
      "text/html": [
       "<div>\n",
       "<style scoped>\n",
       "    .dataframe tbody tr th:only-of-type {\n",
       "        vertical-align: middle;\n",
       "    }\n",
       "\n",
       "    .dataframe tbody tr th {\n",
       "        vertical-align: top;\n",
       "    }\n",
       "\n",
       "    .dataframe thead th {\n",
       "        text-align: right;\n",
       "    }\n",
       "</style>\n",
       "<table border=\"1\" class=\"dataframe\">\n",
       "  <thead>\n",
       "    <tr style=\"text-align: right;\">\n",
       "      <th>Family Customer Profile</th>\n",
       "      <th>Lower Class Family</th>\n",
       "      <th>Middle Class Family</th>\n",
       "      <th>Single Adult</th>\n",
       "      <th>Upper Class Family</th>\n",
       "    </tr>\n",
       "    <tr>\n",
       "      <th>Region</th>\n",
       "      <th></th>\n",
       "      <th></th>\n",
       "      <th></th>\n",
       "      <th></th>\n",
       "    </tr>\n",
       "  </thead>\n",
       "  <tbody>\n",
       "    <tr>\n",
       "      <th>Midwest</th>\n",
       "      <td>579577</td>\n",
       "      <td>3904363</td>\n",
       "      <td>1260037</td>\n",
       "      <td>716469</td>\n",
       "    </tr>\n",
       "    <tr>\n",
       "      <th>Northeast</th>\n",
       "      <td>427189</td>\n",
       "      <td>2996366</td>\n",
       "      <td>918159</td>\n",
       "      <td>525824</td>\n",
       "    </tr>\n",
       "    <tr>\n",
       "      <th>South</th>\n",
       "      <td>829661</td>\n",
       "      <td>5578866</td>\n",
       "      <td>1782662</td>\n",
       "      <td>989726</td>\n",
       "    </tr>\n",
       "    <tr>\n",
       "      <th>West</th>\n",
       "      <td>620844</td>\n",
       "      <td>4312923</td>\n",
       "      <td>1370027</td>\n",
       "      <td>771449</td>\n",
       "    </tr>\n",
       "  </tbody>\n",
       "</table>\n",
       "</div>"
      ],
      "text/plain": [
       "Family Customer Profile  Lower Class Family  Middle Class Family  \\\n",
       "Region                                                             \n",
       "Midwest                              579577              3904363   \n",
       "Northeast                            427189              2996366   \n",
       "South                                829661              5578866   \n",
       "West                                 620844              4312923   \n",
       "\n",
       "Family Customer Profile  Single Adult  Upper Class Family  \n",
       "Region                                                     \n",
       "Midwest                       1260037              716469  \n",
       "Northeast                      918159              525824  \n",
       "South                         1782662              989726  \n",
       "West                          1370027              771449  "
      ]
     },
     "execution_count": 61,
     "metadata": {},
     "output_type": "execute_result"
    }
   ],
   "source": [
    "crosstab4"
   ]
  },
  {
   "cell_type": "code",
   "execution_count": 63,
   "id": "69830d23",
   "metadata": {},
   "outputs": [],
   "source": [
    "# Comparing customer profile by department\n",
    "\n",
    "crosstab5 = pd.crosstab(df['Department'], df['Family Customer Profile'], dropna = False)"
   ]
  },
  {
   "cell_type": "code",
   "execution_count": 64,
   "id": "30a2b07e",
   "metadata": {},
   "outputs": [
    {
     "data": {
      "text/html": [
       "<div>\n",
       "<style scoped>\n",
       "    .dataframe tbody tr th:only-of-type {\n",
       "        vertical-align: middle;\n",
       "    }\n",
       "\n",
       "    .dataframe tbody tr th {\n",
       "        vertical-align: top;\n",
       "    }\n",
       "\n",
       "    .dataframe thead th {\n",
       "        text-align: right;\n",
       "    }\n",
       "</style>\n",
       "<table border=\"1\" class=\"dataframe\">\n",
       "  <thead>\n",
       "    <tr style=\"text-align: right;\">\n",
       "      <th>Family Customer Profile</th>\n",
       "      <th>Lower Class Family</th>\n",
       "      <th>Middle Class Family</th>\n",
       "      <th>Single Adult</th>\n",
       "      <th>Upper Class Family</th>\n",
       "    </tr>\n",
       "    <tr>\n",
       "      <th>Department</th>\n",
       "      <th></th>\n",
       "      <th></th>\n",
       "      <th></th>\n",
       "      <th></th>\n",
       "    </tr>\n",
       "  </thead>\n",
       "  <tbody>\n",
       "    <tr>\n",
       "      <th>alcohol</th>\n",
       "      <td>13514</td>\n",
       "      <td>71569</td>\n",
       "      <td>26503</td>\n",
       "      <td>18167</td>\n",
       "    </tr>\n",
       "    <tr>\n",
       "      <th>babies</th>\n",
       "      <td>21103</td>\n",
       "      <td>228847</td>\n",
       "      <td>71168</td>\n",
       "      <td>39588</td>\n",
       "    </tr>\n",
       "    <tr>\n",
       "      <th>bakery</th>\n",
       "      <td>78762</td>\n",
       "      <td>609857</td>\n",
       "      <td>194004</td>\n",
       "      <td>114632</td>\n",
       "    </tr>\n",
       "    <tr>\n",
       "      <th>beverages</th>\n",
       "      <td>279604</td>\n",
       "      <td>1325299</td>\n",
       "      <td>443417</td>\n",
       "      <td>241329</td>\n",
       "    </tr>\n",
       "    <tr>\n",
       "      <th>breakfast</th>\n",
       "      <td>66644</td>\n",
       "      <td>350801</td>\n",
       "      <td>115079</td>\n",
       "      <td>64751</td>\n",
       "    </tr>\n",
       "    <tr>\n",
       "      <th>bulk</th>\n",
       "      <td>3472</td>\n",
       "      <td>17828</td>\n",
       "      <td>5513</td>\n",
       "      <td>2778</td>\n",
       "    </tr>\n",
       "    <tr>\n",
       "      <th>canned goods</th>\n",
       "      <td>58621</td>\n",
       "      <td>572663</td>\n",
       "      <td>175579</td>\n",
       "      <td>103247</td>\n",
       "    </tr>\n",
       "    <tr>\n",
       "      <th>dairy eggs</th>\n",
       "      <td>361348</td>\n",
       "      <td>2835812</td>\n",
       "      <td>887451</td>\n",
       "      <td>506126</td>\n",
       "    </tr>\n",
       "    <tr>\n",
       "      <th>deli</th>\n",
       "      <td>77162</td>\n",
       "      <td>544328</td>\n",
       "      <td>174327</td>\n",
       "      <td>97440</td>\n",
       "    </tr>\n",
       "    <tr>\n",
       "      <th>dry goods pasta</th>\n",
       "      <td>47763</td>\n",
       "      <td>464833</td>\n",
       "      <td>141042</td>\n",
       "      <td>82784</td>\n",
       "    </tr>\n",
       "    <tr>\n",
       "      <th>frozen</th>\n",
       "      <td>158911</td>\n",
       "      <td>1160320</td>\n",
       "      <td>363585</td>\n",
       "      <td>213485</td>\n",
       "    </tr>\n",
       "    <tr>\n",
       "      <th>household</th>\n",
       "      <td>64894</td>\n",
       "      <td>374800</td>\n",
       "      <td>118968</td>\n",
       "      <td>71247</td>\n",
       "    </tr>\n",
       "    <tr>\n",
       "      <th>international</th>\n",
       "      <td>15830</td>\n",
       "      <td>142869</td>\n",
       "      <td>44653</td>\n",
       "      <td>25395</td>\n",
       "    </tr>\n",
       "    <tr>\n",
       "      <th>meat seafood</th>\n",
       "      <td>24851</td>\n",
       "      <td>392285</td>\n",
       "      <td>113607</td>\n",
       "      <td>72437</td>\n",
       "    </tr>\n",
       "    <tr>\n",
       "      <th>missing</th>\n",
       "      <td>4791</td>\n",
       "      <td>35869</td>\n",
       "      <td>11595</td>\n",
       "      <td>6576</td>\n",
       "    </tr>\n",
       "    <tr>\n",
       "      <th>other</th>\n",
       "      <td>2720</td>\n",
       "      <td>18316</td>\n",
       "      <td>6173</td>\n",
       "      <td>3535</td>\n",
       "    </tr>\n",
       "    <tr>\n",
       "      <th>pantry</th>\n",
       "      <td>122284</td>\n",
       "      <td>987283</td>\n",
       "      <td>306776</td>\n",
       "      <td>178723</td>\n",
       "    </tr>\n",
       "    <tr>\n",
       "      <th>personal care</th>\n",
       "      <td>34754</td>\n",
       "      <td>230627</td>\n",
       "      <td>73464</td>\n",
       "      <td>41462</td>\n",
       "    </tr>\n",
       "    <tr>\n",
       "      <th>pets</th>\n",
       "      <td>6039</td>\n",
       "      <td>49994</td>\n",
       "      <td>16174</td>\n",
       "      <td>9563</td>\n",
       "    </tr>\n",
       "    <tr>\n",
       "      <th>produce</th>\n",
       "      <td>603679</td>\n",
       "      <td>5023237</td>\n",
       "      <td>1562611</td>\n",
       "      <td>872790</td>\n",
       "    </tr>\n",
       "    <tr>\n",
       "      <th>snacks</th>\n",
       "      <td>407929</td>\n",
       "      <td>1340148</td>\n",
       "      <td>474002</td>\n",
       "      <td>234759</td>\n",
       "    </tr>\n",
       "  </tbody>\n",
       "</table>\n",
       "</div>"
      ],
      "text/plain": [
       "Family Customer Profile  Lower Class Family  Middle Class Family  \\\n",
       "Department                                                         \n",
       "alcohol                               13514                71569   \n",
       "babies                                21103               228847   \n",
       "bakery                                78762               609857   \n",
       "beverages                            279604              1325299   \n",
       "breakfast                             66644               350801   \n",
       "bulk                                   3472                17828   \n",
       "canned goods                          58621               572663   \n",
       "dairy eggs                           361348              2835812   \n",
       "deli                                  77162               544328   \n",
       "dry goods pasta                       47763               464833   \n",
       "frozen                               158911              1160320   \n",
       "household                             64894               374800   \n",
       "international                         15830               142869   \n",
       "meat seafood                          24851               392285   \n",
       "missing                                4791                35869   \n",
       "other                                  2720                18316   \n",
       "pantry                               122284               987283   \n",
       "personal care                         34754               230627   \n",
       "pets                                   6039                49994   \n",
       "produce                              603679              5023237   \n",
       "snacks                               407929              1340148   \n",
       "\n",
       "Family Customer Profile  Single Adult  Upper Class Family  \n",
       "Department                                                 \n",
       "alcohol                         26503               18167  \n",
       "babies                          71168               39588  \n",
       "bakery                         194004              114632  \n",
       "beverages                      443417              241329  \n",
       "breakfast                      115079               64751  \n",
       "bulk                             5513                2778  \n",
       "canned goods                   175579              103247  \n",
       "dairy eggs                     887451              506126  \n",
       "deli                           174327               97440  \n",
       "dry goods pasta                141042               82784  \n",
       "frozen                         363585              213485  \n",
       "household                      118968               71247  \n",
       "international                   44653               25395  \n",
       "meat seafood                   113607               72437  \n",
       "missing                         11595                6576  \n",
       "other                            6173                3535  \n",
       "pantry                         306776              178723  \n",
       "personal care                   73464               41462  \n",
       "pets                            16174                9563  \n",
       "produce                       1562611              872790  \n",
       "snacks                         474002              234759  "
      ]
     },
     "execution_count": 64,
     "metadata": {},
     "output_type": "execute_result"
    }
   ],
   "source": [
    "crosstab5"
   ]
  },
  {
   "cell_type": "code",
   "execution_count": 67,
   "id": "6df6be05",
   "metadata": {},
   "outputs": [],
   "source": [
    "crosstab6 = pd.crosstab(df['Region'], df['days_since_prior_order'], dropna = False)"
   ]
  },
  {
   "cell_type": "code",
   "execution_count": 69,
   "id": "c7497082",
   "metadata": {},
   "outputs": [
    {
     "data": {
      "text/html": [
       "<div>\n",
       "<style scoped>\n",
       "    .dataframe tbody tr th:only-of-type {\n",
       "        vertical-align: middle;\n",
       "    }\n",
       "\n",
       "    .dataframe tbody tr th {\n",
       "        vertical-align: top;\n",
       "    }\n",
       "\n",
       "    .dataframe thead tr th {\n",
       "        text-align: left;\n",
       "    }\n",
       "\n",
       "    .dataframe thead tr:last-of-type th {\n",
       "        text-align: right;\n",
       "    }\n",
       "</style>\n",
       "<table border=\"1\" class=\"dataframe\">\n",
       "  <thead>\n",
       "    <tr>\n",
       "      <th></th>\n",
       "      <th>days_since_prior_order</th>\n",
       "    </tr>\n",
       "    <tr>\n",
       "      <th></th>\n",
       "      <th>mean</th>\n",
       "    </tr>\n",
       "    <tr>\n",
       "      <th>Region</th>\n",
       "      <th></th>\n",
       "    </tr>\n",
       "  </thead>\n",
       "  <tbody>\n",
       "    <tr>\n",
       "      <th>Midwest</th>\n",
       "      <td>10.460938</td>\n",
       "    </tr>\n",
       "    <tr>\n",
       "      <th>Northeast</th>\n",
       "      <td>10.375000</td>\n",
       "    </tr>\n",
       "    <tr>\n",
       "      <th>South</th>\n",
       "      <td>10.398438</td>\n",
       "    </tr>\n",
       "    <tr>\n",
       "      <th>West</th>\n",
       "      <td>10.359375</td>\n",
       "    </tr>\n",
       "  </tbody>\n",
       "</table>\n",
       "</div>"
      ],
      "text/plain": [
       "          days_since_prior_order\n",
       "                            mean\n",
       "Region                          \n",
       "Midwest                10.460938\n",
       "Northeast              10.375000\n",
       "South                  10.398438\n",
       "West                   10.359375"
      ]
     },
     "execution_count": 69,
     "metadata": {},
     "output_type": "execute_result"
    }
   ],
   "source": [
    "df.groupby('Region').agg({'days_since_prior_order': ['mean']})"
   ]
  },
  {
   "cell_type": "code",
   "execution_count": 65,
   "id": "936cd1e3",
   "metadata": {},
   "outputs": [],
   "source": [
    "# Export df as final_data.pkl\n",
    "\n",
    "df.to_pickle(os.path.join(path, '02 Data','Prepared Data', 'final_data.pkl'))"
   ]
  },
  {
   "cell_type": "code",
   "execution_count": null,
   "id": "b5b52c91",
   "metadata": {},
   "outputs": [],
   "source": []
  }
 ],
 "metadata": {
  "kernelspec": {
   "display_name": "Python 3 (ipykernel)",
   "language": "python",
   "name": "python3"
  },
  "language_info": {
   "codemirror_mode": {
    "name": "ipython",
    "version": 3
   },
   "file_extension": ".py",
   "mimetype": "text/x-python",
   "name": "python",
   "nbconvert_exporter": "python",
   "pygments_lexer": "ipython3",
   "version": "3.9.7"
  }
 },
 "nbformat": 4,
 "nbformat_minor": 5
}
