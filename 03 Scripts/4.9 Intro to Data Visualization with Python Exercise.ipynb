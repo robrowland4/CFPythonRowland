{
 "cells": [
  {
   "cell_type": "markdown",
   "id": "a617fe80",
   "metadata": {},
   "source": [
    "# 01: Importing libraries"
   ]
  },
  {
   "cell_type": "code",
   "execution_count": 1,
   "id": "5f68e5c3",
   "metadata": {},
   "outputs": [],
   "source": [
    "import pandas as pd\n",
    "import numpy as np\n",
    "import os\n",
    "import matplotlib.pyplot as plt\n",
    "import seaborn as sns\n",
    "import scipy"
   ]
  },
  {
   "cell_type": "markdown",
   "id": "6eddc819",
   "metadata": {},
   "source": [
    "# 02: Data Import"
   ]
  },
  {
   "cell_type": "code",
   "execution_count": 2,
   "id": "5bcacd3a",
   "metadata": {},
   "outputs": [],
   "source": [
    "path = r'C:\\Users\\14239\\Downloads\\Instacart Basket Analysis'"
   ]
  },
  {
   "cell_type": "code",
   "execution_count": 3,
   "id": "08cc852d",
   "metadata": {},
   "outputs": [],
   "source": [
    "# Import orders_products_merged_3\n",
    "\n",
    "ords_prods_merge = pd.read_pickle(os.path.join(path, '02 Data', 'Prepared Data', 'orders_products_merged_3.pkl'))"
   ]
  },
  {
   "cell_type": "code",
   "execution_count": 4,
   "id": "7eeb3c81",
   "metadata": {},
   "outputs": [
    {
     "data": {
      "text/plain": [
       "<AxesSubplot:>"
      ]
     },
     "execution_count": 4,
     "metadata": {},
     "output_type": "execute_result"
    },
    {
     "data": {
      "image/png": "[encoded data removed]",
      "text/plain": [
       "<Figure size 432x288 with 1 Axes>"
      ]
     },
     "metadata": {
      "needs_background": "light"
     },
     "output_type": "display_data"
    }
   ],
   "source": [
    "# Create a bar chart\n",
    "\n",
    "ords_prods_merge['orders_day_of_week'].value_counts().plot.bar()"
   ]
  },
  {
   "cell_type": "code",
   "execution_count": 5,
   "id": "d1c920a3",
   "metadata": {},
   "outputs": [
    {
     "data": {
      "text/plain": [
       "<AxesSubplot:>"
      ]
     },
     "execution_count": 5,
     "metadata": {},
     "output_type": "execute_result"
    },
    {
     "data": {
      "image/png": "[encoded data removed]",
      "text/plain": [
       "<Figure size 432x288 with 1 Axes>"
      ]
     },
     "metadata": {
      "needs_background": "light"
     },
     "output_type": "display_data"
    }
   ],
   "source": [
    "# Using sort_index\n",
    "\n",
    "ords_prods_merge['orders_day_of_week'].value_counts().sort_index().plot.bar()"
   ]
  },
  {
   "cell_type": "code",
   "execution_count": 6,
   "id": "d0ceffc3",
   "metadata": {},
   "outputs": [
    {
     "data": {
      "text/plain": [
       "<AxesSubplot:>"
      ]
     },
     "execution_count": 6,
     "metadata": {},
     "output_type": "execute_result"
    },
    {
     "data": {
      "image/png": "[encoded data removed]",
      "text/plain": [
       "<Figure size 432x288 with 1 Axes>"
      ]
     },
     "metadata": {
      "needs_background": "light"
     },
     "output_type": "display_data"
    }
   ],
   "source": [
    "# Add color to bar char\n",
    "\n",
    "ords_prods_merge['orders_day_of_week'].value_counts().plot.bar(color =['purple', 'red', 'pink', 'orange', 'yellow', 'green', 'blue'])"
   ]
  },
  {
   "cell_type": "code",
   "execution_count": 8,
   "id": "667158e3",
   "metadata": {},
   "outputs": [
    {
     "data": {
      "image/png": "[encoded data removed]",
      "text/plain": [
       "<Figure size 432x288 with 1 Axes>"
      ]
     },
     "metadata": {
      "needs_background": "light"
     },
     "output_type": "display_data"
    }
   ],
   "source": [
    "bar = ords_prods_merge['orders_day_of_week'].value_counts().plot.bar(color =['purple', 'red', 'pink', 'orange', 'yellow', 'green', 'blue'])"
   ]
  },
  {
   "cell_type": "code",
   "execution_count": 10,
   "id": "c78a9692",
   "metadata": {},
   "outputs": [],
   "source": [
    "# Export bar chat\n",
    "\n",
    "bar.figure.savefig(os.path.join(path, '04 Analysis','Visualizations', 'bar_orders_dow.png'))"
   ]
  },
  {
   "cell_type": "code",
   "execution_count": 11,
   "id": "39d9a83d",
   "metadata": {},
   "outputs": [
    {
     "data": {
      "text/plain": [
       "<AxesSubplot:ylabel='Frequency'>"
      ]
     },
     "execution_count": 11,
     "metadata": {},
     "output_type": "execute_result"
    },
    {
     "data": {
      "image/png": "[encoded data removed]",
      "text/plain": [
       "<Figure size 432x288 with 1 Axes>"
      ]
     },
     "metadata": {
      "needs_background": "light"
     },
     "output_type": "display_data"
    }
   ],
   "source": [
    "# Create a histogram\n",
    "\n",
    "ords_prods_merge['prices'].plot.hist(bins = 25)"
   ]
  },
  {
   "cell_type": "code",
   "execution_count": 12,
   "id": "d50dd31e",
   "metadata": {},
   "outputs": [
    {
     "data": {
      "text/plain": [
       "11.980225638676366"
      ]
     },
     "execution_count": 12,
     "metadata": {},
     "output_type": "execute_result"
    }
   ],
   "source": [
    "ords_prods_merge['prices'].mean()"
   ]
  },
  {
   "cell_type": "code",
   "execution_count": 13,
   "id": "bb7c2c26",
   "metadata": {},
   "outputs": [
    {
     "data": {
      "text/plain": [
       "7.4"
      ]
     },
     "execution_count": 13,
     "metadata": {},
     "output_type": "execute_result"
    }
   ],
   "source": [
    "ords_prods_merge['prices'].median()"
   ]
  },
  {
   "cell_type": "code",
   "execution_count": 14,
   "id": "209543df",
   "metadata": {},
   "outputs": [
    {
     "data": {
      "text/plain": [
       "99999.0"
      ]
     },
     "execution_count": 14,
     "metadata": {},
     "output_type": "execute_result"
    }
   ],
   "source": [
    "ords_prods_merge['prices'].max()"
   ]
  },
  {
   "cell_type": "code",
   "execution_count": 15,
   "id": "f78edc1a",
   "metadata": {},
   "outputs": [
    {
     "data": {
      "text/plain": [
       "<AxesSubplot:xlabel='prices', ylabel='prices'>"
      ]
     },
     "execution_count": 15,
     "metadata": {},
     "output_type": "execute_result"
    },
    {
     "data": {
      "image/png": "[encoded data removed]",
      "text/plain": [
       "<Figure size 432x288 with 1 Axes>"
      ]
     },
     "metadata": {
      "needs_background": "light"
     },
     "output_type": "display_data"
    }
   ],
   "source": [
    "sns.scatterplot(x = 'prices', y = 'prices',data = ords_prods_merge)"
   ]
  },
  {
   "cell_type": "code",
   "execution_count": 16,
   "id": "00e0f78b",
   "metadata": {},
   "outputs": [
    {
     "data": {
      "text/html": [
       "<div>\n",
       "<style scoped>\n",
       "    .dataframe tbody tr th:only-of-type {\n",
       "        vertical-align: middle;\n",
       "    }\n",
       "\n",
       "    .dataframe tbody tr th {\n",
       "        vertical-align: top;\n",
       "    }\n",
       "\n",
       "    .dataframe thead th {\n",
       "        text-align: right;\n",
       "    }\n",
       "</style>\n",
       "<table border=\"1\" class=\"dataframe\">\n",
       "  <thead>\n",
       "    <tr style=\"text-align: right;\">\n",
       "      <th></th>\n",
       "      <th>order_id</th>\n",
       "      <th>user_id</th>\n",
       "      <th>user_cumulative_order_number</th>\n",
       "      <th>orders_day_of_week</th>\n",
       "      <th>order_hour_of_day</th>\n",
       "      <th>days_since_prior_order</th>\n",
       "      <th>first_order</th>\n",
       "      <th>product_id</th>\n",
       "      <th>add_to_cart_order</th>\n",
       "      <th>reordered</th>\n",
       "      <th>...</th>\n",
       "      <th>_merge</th>\n",
       "      <th>price_range_loc</th>\n",
       "      <th>busiest_day</th>\n",
       "      <th>busiest_days</th>\n",
       "      <th>busiest_period_of_day</th>\n",
       "      <th>max_order</th>\n",
       "      <th>loyalty_flag</th>\n",
       "      <th>avg_order_price</th>\n",
       "      <th>loyalty_flag2</th>\n",
       "      <th>loyalty_flag3</th>\n",
       "    </tr>\n",
       "  </thead>\n",
       "  <tbody>\n",
       "    <tr>\n",
       "      <th>1576</th>\n",
       "      <td>912404</td>\n",
       "      <td>17</td>\n",
       "      <td>12</td>\n",
       "      <td>2</td>\n",
       "      <td>14</td>\n",
       "      <td>5.0</td>\n",
       "      <td>False</td>\n",
       "      <td>21553</td>\n",
       "      <td>5</td>\n",
       "      <td>0</td>\n",
       "      <td>...</td>\n",
       "      <td>both</td>\n",
       "      <td>High-range product</td>\n",
       "      <td>Regularly busy</td>\n",
       "      <td>Regularly busy</td>\n",
       "      <td>Most_orders</td>\n",
       "      <td>40</td>\n",
       "      <td>High Spender</td>\n",
       "      <td>108.648299</td>\n",
       "      <td>Regular customer</td>\n",
       "      <td>Frequent Customer</td>\n",
       "    </tr>\n",
       "    <tr>\n",
       "      <th>1638</th>\n",
       "      <td>603376</td>\n",
       "      <td>17</td>\n",
       "      <td>22</td>\n",
       "      <td>6</td>\n",
       "      <td>16</td>\n",
       "      <td>5.0</td>\n",
       "      <td>False</td>\n",
       "      <td>21553</td>\n",
       "      <td>3</td>\n",
       "      <td>1</td>\n",
       "      <td>...</td>\n",
       "      <td>both</td>\n",
       "      <td>High-range product</td>\n",
       "      <td>Regularly busy</td>\n",
       "      <td>Regularly busy</td>\n",
       "      <td>Most_orders</td>\n",
       "      <td>40</td>\n",
       "      <td>High Spender</td>\n",
       "      <td>108.648299</td>\n",
       "      <td>Regular customer</td>\n",
       "      <td>Frequent Customer</td>\n",
       "    </tr>\n",
       "    <tr>\n",
       "      <th>16534</th>\n",
       "      <td>3264360</td>\n",
       "      <td>135</td>\n",
       "      <td>2</td>\n",
       "      <td>2</td>\n",
       "      <td>21</td>\n",
       "      <td>12.0</td>\n",
       "      <td>False</td>\n",
       "      <td>21553</td>\n",
       "      <td>6</td>\n",
       "      <td>0</td>\n",
       "      <td>...</td>\n",
       "      <td>both</td>\n",
       "      <td>High-range product</td>\n",
       "      <td>Regularly busy</td>\n",
       "      <td>Regularly busy</td>\n",
       "      <td>Most_orders</td>\n",
       "      <td>4</td>\n",
       "      <td>High Spender</td>\n",
       "      <td>1154.792308</td>\n",
       "      <td>New customer</td>\n",
       "      <td>Regular Customer</td>\n",
       "    </tr>\n",
       "    <tr>\n",
       "      <th>16540</th>\n",
       "      <td>892534</td>\n",
       "      <td>135</td>\n",
       "      <td>3</td>\n",
       "      <td>0</td>\n",
       "      <td>8</td>\n",
       "      <td>12.0</td>\n",
       "      <td>False</td>\n",
       "      <td>21553</td>\n",
       "      <td>3</td>\n",
       "      <td>1</td>\n",
       "      <td>...</td>\n",
       "      <td>both</td>\n",
       "      <td>High-range product</td>\n",
       "      <td>Busiest day</td>\n",
       "      <td>Busiest days</td>\n",
       "      <td>Most_orders</td>\n",
       "      <td>4</td>\n",
       "      <td>High Spender</td>\n",
       "      <td>1154.792308</td>\n",
       "      <td>New customer</td>\n",
       "      <td>Regular Customer</td>\n",
       "    </tr>\n",
       "    <tr>\n",
       "      <th>53712</th>\n",
       "      <td>229704</td>\n",
       "      <td>342</td>\n",
       "      <td>8</td>\n",
       "      <td>1</td>\n",
       "      <td>19</td>\n",
       "      <td>23.0</td>\n",
       "      <td>False</td>\n",
       "      <td>21553</td>\n",
       "      <td>9</td>\n",
       "      <td>0</td>\n",
       "      <td>...</td>\n",
       "      <td>both</td>\n",
       "      <td>High-range product</td>\n",
       "      <td>Regularly busy</td>\n",
       "      <td>Busiest days</td>\n",
       "      <td>Most_orders</td>\n",
       "      <td>16</td>\n",
       "      <td>High Spender</td>\n",
       "      <td>114.426619</td>\n",
       "      <td>Regular customer</td>\n",
       "      <td>Non-Frequent Customer</td>\n",
       "    </tr>\n",
       "    <tr>\n",
       "      <th>...</th>\n",
       "      <td>...</td>\n",
       "      <td>...</td>\n",
       "      <td>...</td>\n",
       "      <td>...</td>\n",
       "      <td>...</td>\n",
       "      <td>...</td>\n",
       "      <td>...</td>\n",
       "      <td>...</td>\n",
       "      <td>...</td>\n",
       "      <td>...</td>\n",
       "      <td>...</td>\n",
       "      <td>...</td>\n",
       "      <td>...</td>\n",
       "      <td>...</td>\n",
       "      <td>...</td>\n",
       "      <td>...</td>\n",
       "      <td>...</td>\n",
       "      <td>...</td>\n",
       "      <td>...</td>\n",
       "      <td>...</td>\n",
       "      <td>...</td>\n",
       "    </tr>\n",
       "    <tr>\n",
       "      <th>32350634</th>\n",
       "      <td>3172853</td>\n",
       "      <td>205650</td>\n",
       "      <td>18</td>\n",
       "      <td>1</td>\n",
       "      <td>9</td>\n",
       "      <td>6.0</td>\n",
       "      <td>False</td>\n",
       "      <td>21553</td>\n",
       "      <td>17</td>\n",
       "      <td>1</td>\n",
       "      <td>...</td>\n",
       "      <td>both</td>\n",
       "      <td>High-range product</td>\n",
       "      <td>Regularly busy</td>\n",
       "      <td>Busiest days</td>\n",
       "      <td>Most_orders</td>\n",
       "      <td>25</td>\n",
       "      <td>High Spender</td>\n",
       "      <td>351.141618</td>\n",
       "      <td>Regular customer</td>\n",
       "      <td>Frequent Customer</td>\n",
       "    </tr>\n",
       "    <tr>\n",
       "      <th>32377867</th>\n",
       "      <td>2504315</td>\n",
       "      <td>205818</td>\n",
       "      <td>3</td>\n",
       "      <td>5</td>\n",
       "      <td>15</td>\n",
       "      <td>12.5</td>\n",
       "      <td>False</td>\n",
       "      <td>21553</td>\n",
       "      <td>13</td>\n",
       "      <td>0</td>\n",
       "      <td>...</td>\n",
       "      <td>both</td>\n",
       "      <td>High-range product</td>\n",
       "      <td>Regularly busy</td>\n",
       "      <td>Regularly busy</td>\n",
       "      <td>Most_orders</td>\n",
       "      <td>25</td>\n",
       "      <td>High Spender</td>\n",
       "      <td>170.073770</td>\n",
       "      <td>Regular customer</td>\n",
       "      <td>Regular Customer</td>\n",
       "    </tr>\n",
       "    <tr>\n",
       "      <th>32377877</th>\n",
       "      <td>1108388</td>\n",
       "      <td>205818</td>\n",
       "      <td>5</td>\n",
       "      <td>4</td>\n",
       "      <td>5</td>\n",
       "      <td>12.5</td>\n",
       "      <td>False</td>\n",
       "      <td>21553</td>\n",
       "      <td>5</td>\n",
       "      <td>1</td>\n",
       "      <td>...</td>\n",
       "      <td>both</td>\n",
       "      <td>High-range product</td>\n",
       "      <td>Least busy</td>\n",
       "      <td>Least busiest days</td>\n",
       "      <td>Fewest_orders</td>\n",
       "      <td>25</td>\n",
       "      <td>High Spender</td>\n",
       "      <td>170.073770</td>\n",
       "      <td>Regular customer</td>\n",
       "      <td>Regular Customer</td>\n",
       "    </tr>\n",
       "    <tr>\n",
       "      <th>32410707</th>\n",
       "      <td>1916142</td>\n",
       "      <td>206049</td>\n",
       "      <td>1</td>\n",
       "      <td>2</td>\n",
       "      <td>17</td>\n",
       "      <td>7.0</td>\n",
       "      <td>True</td>\n",
       "      <td>21553</td>\n",
       "      <td>2</td>\n",
       "      <td>0</td>\n",
       "      <td>...</td>\n",
       "      <td>both</td>\n",
       "      <td>High-range product</td>\n",
       "      <td>Regularly busy</td>\n",
       "      <td>Regularly busy</td>\n",
       "      <td>Most_orders</td>\n",
       "      <td>5</td>\n",
       "      <td>High Spender</td>\n",
       "      <td>938.031250</td>\n",
       "      <td>New customer</td>\n",
       "      <td>Frequent Customer</td>\n",
       "    </tr>\n",
       "    <tr>\n",
       "      <th>32410731</th>\n",
       "      <td>379732</td>\n",
       "      <td>206049</td>\n",
       "      <td>4</td>\n",
       "      <td>1</td>\n",
       "      <td>14</td>\n",
       "      <td>7.0</td>\n",
       "      <td>False</td>\n",
       "      <td>21553</td>\n",
       "      <td>4</td>\n",
       "      <td>1</td>\n",
       "      <td>...</td>\n",
       "      <td>both</td>\n",
       "      <td>High-range product</td>\n",
       "      <td>Regularly busy</td>\n",
       "      <td>Busiest days</td>\n",
       "      <td>Most_orders</td>\n",
       "      <td>5</td>\n",
       "      <td>High Spender</td>\n",
       "      <td>938.031250</td>\n",
       "      <td>New customer</td>\n",
       "      <td>Frequent Customer</td>\n",
       "    </tr>\n",
       "  </tbody>\n",
       "</table>\n",
       "<p>5127 rows × 26 columns</p>\n",
       "</div>"
      ],
      "text/plain": [
       "          order_id  user_id  user_cumulative_order_number  orders_day_of_week  \\\n",
       "1576        912404       17                            12                   2   \n",
       "1638        603376       17                            22                   6   \n",
       "16534      3264360      135                             2                   2   \n",
       "16540       892534      135                             3                   0   \n",
       "53712       229704      342                             8                   1   \n",
       "...            ...      ...                           ...                 ...   \n",
       "32350634   3172853   205650                            18                   1   \n",
       "32377867   2504315   205818                             3                   5   \n",
       "32377877   1108388   205818                             5                   4   \n",
       "32410707   1916142   206049                             1                   2   \n",
       "32410731    379732   206049                             4                   1   \n",
       "\n",
       "          order_hour_of_day  days_since_prior_order  first_order  product_id  \\\n",
       "1576                     14                     5.0        False       21553   \n",
       "1638                     16                     5.0        False       21553   \n",
       "16534                    21                    12.0        False       21553   \n",
       "16540                     8                    12.0        False       21553   \n",
       "53712                    19                    23.0        False       21553   \n",
       "...                     ...                     ...          ...         ...   \n",
       "32350634                  9                     6.0        False       21553   \n",
       "32377867                 15                    12.5        False       21553   \n",
       "32377877                  5                    12.5        False       21553   \n",
       "32410707                 17                     7.0         True       21553   \n",
       "32410731                 14                     7.0        False       21553   \n",
       "\n",
       "          add_to_cart_order  reordered  ... _merge     price_range_loc  \\\n",
       "1576                      5          0  ...   both  High-range product   \n",
       "1638                      3          1  ...   both  High-range product   \n",
       "16534                     6          0  ...   both  High-range product   \n",
       "16540                     3          1  ...   both  High-range product   \n",
       "53712                     9          0  ...   both  High-range product   \n",
       "...                     ...        ...  ...    ...                 ...   \n",
       "32350634                 17          1  ...   both  High-range product   \n",
       "32377867                 13          0  ...   both  High-range product   \n",
       "32377877                  5          1  ...   both  High-range product   \n",
       "32410707                  2          0  ...   both  High-range product   \n",
       "32410731                  4          1  ...   both  High-range product   \n",
       "\n",
       "             busiest_day        busiest_days  busiest_period_of_day  \\\n",
       "1576      Regularly busy      Regularly busy            Most_orders   \n",
       "1638      Regularly busy      Regularly busy            Most_orders   \n",
       "16534     Regularly busy      Regularly busy            Most_orders   \n",
       "16540        Busiest day        Busiest days            Most_orders   \n",
       "53712     Regularly busy        Busiest days            Most_orders   \n",
       "...                  ...                 ...                    ...   \n",
       "32350634  Regularly busy        Busiest days            Most_orders   \n",
       "32377867  Regularly busy      Regularly busy            Most_orders   \n",
       "32377877      Least busy  Least busiest days          Fewest_orders   \n",
       "32410707  Regularly busy      Regularly busy            Most_orders   \n",
       "32410731  Regularly busy        Busiest days            Most_orders   \n",
       "\n",
       "          max_order  loyalty_flag avg_order_price     loyalty_flag2  \\\n",
       "1576             40  High Spender      108.648299  Regular customer   \n",
       "1638             40  High Spender      108.648299  Regular customer   \n",
       "16534             4  High Spender     1154.792308      New customer   \n",
       "16540             4  High Spender     1154.792308      New customer   \n",
       "53712            16  High Spender      114.426619  Regular customer   \n",
       "...             ...           ...             ...               ...   \n",
       "32350634         25  High Spender      351.141618  Regular customer   \n",
       "32377867         25  High Spender      170.073770  Regular customer   \n",
       "32377877         25  High Spender      170.073770  Regular customer   \n",
       "32410707          5  High Spender      938.031250      New customer   \n",
       "32410731          5  High Spender      938.031250      New customer   \n",
       "\n",
       "                  loyalty_flag3  \n",
       "1576          Frequent Customer  \n",
       "1638          Frequent Customer  \n",
       "16534          Regular Customer  \n",
       "16540          Regular Customer  \n",
       "53712     Non-Frequent Customer  \n",
       "...                         ...  \n",
       "32350634      Frequent Customer  \n",
       "32377867       Regular Customer  \n",
       "32377877       Regular Customer  \n",
       "32410707      Frequent Customer  \n",
       "32410731      Frequent Customer  \n",
       "\n",
       "[5127 rows x 26 columns]"
      ]
     },
     "execution_count": 16,
     "metadata": {},
     "output_type": "execute_result"
    }
   ],
   "source": [
    "ords_prods_merge.loc[ords_prods_merge['prices'] > 100]"
   ]
  },
  {
   "cell_type": "code",
   "execution_count": 17,
   "id": "4165e8c6",
   "metadata": {},
   "outputs": [],
   "source": [
    "# Remove outliers (copy to exercise 4.5)\n",
    "\n",
    "ords_prods_merge.loc[ords_prods_merge['prices'] >100, 'prices'] = np.nan"
   ]
  },
  {
   "cell_type": "code",
   "execution_count": 18,
   "id": "382515dc",
   "metadata": {},
   "outputs": [
    {
     "data": {
      "text/plain": [
       "25.0"
      ]
     },
     "execution_count": 18,
     "metadata": {},
     "output_type": "execute_result"
    }
   ],
   "source": [
    "ords_prods_merge['prices'].max()"
   ]
  },
  {
   "cell_type": "code",
   "execution_count": 21,
   "id": "deebbd5b",
   "metadata": {},
   "outputs": [
    {
     "data": {
      "image/png": "[encoded data removed]",
      "text/plain": [
       "<Figure size 432x288 with 1 Axes>"
      ]
     },
     "metadata": {
      "needs_background": "light"
     },
     "output_type": "display_data"
    }
   ],
   "source": [
    "# Create a histogram after removing outliers\n",
    "\n",
    "hist = ords_prods_merge['prices'].plot.hist(bins = 25)"
   ]
  },
  {
   "cell_type": "code",
   "execution_count": 22,
   "id": "fde9d321",
   "metadata": {},
   "outputs": [
    {
     "data": {
      "image/png": "[encoded data removed]",
      "text/plain": [
       "<Figure size 432x288 with 1 Axes>"
      ]
     },
     "metadata": {
      "needs_background": "light"
     },
     "output_type": "display_data"
    }
   ],
   "source": [
    "hist2 = ords_prods_merge['prices'].plot.hist(bins = 70)"
   ]
  },
  {
   "cell_type": "code",
   "execution_count": 24,
   "id": "f4f9fa70",
   "metadata": {},
   "outputs": [],
   "source": [
    "# Export histogram\n",
    "\n",
    "hist.figure.savefig(os.path.join(path, '04 Analysis','Visualizations', 'hist_price_freq.png'))"
   ]
  },
  {
   "cell_type": "code",
   "execution_count": 25,
   "id": "29661930",
   "metadata": {},
   "outputs": [],
   "source": [
    "# Sampling data\n",
    "\n",
    "np.random.seed(4)\n",
    "dev = np.random.rand(len(ords_prods_merge)) <= 0.7"
   ]
  },
  {
   "cell_type": "code",
   "execution_count": 26,
   "id": "9d5c7b8e",
   "metadata": {},
   "outputs": [
    {
     "data": {
      "text/plain": [
       "array([False,  True, False, ...,  True,  True,  True])"
      ]
     },
     "execution_count": 26,
     "metadata": {},
     "output_type": "execute_result"
    }
   ],
   "source": [
    "dev"
   ]
  },
  {
   "cell_type": "code",
   "execution_count": 28,
   "id": "7fc1d61e",
   "metadata": {},
   "outputs": [],
   "source": [
    "# Store 70% in big\n",
    "\n",
    "big = ords_prods_merge[dev]"
   ]
  },
  {
   "cell_type": "code",
   "execution_count": 29,
   "id": "55eecd13",
   "metadata": {},
   "outputs": [],
   "source": [
    "#Store 30% in small\n",
    "\n",
    "small = ords_prods_merge[~dev]"
   ]
  },
  {
   "cell_type": "code",
   "execution_count": 30,
   "id": "fab98bfd",
   "metadata": {},
   "outputs": [
    {
     "data": {
      "text/plain": [
       "32435059"
      ]
     },
     "execution_count": 30,
     "metadata": {},
     "output_type": "execute_result"
    }
   ],
   "source": [
    "len(ords_prods_merge)"
   ]
  },
  {
   "cell_type": "code",
   "execution_count": 31,
   "id": "6553ff3c",
   "metadata": {},
   "outputs": [
    {
     "data": {
      "text/plain": [
       "32435059"
      ]
     },
     "execution_count": 31,
     "metadata": {},
     "output_type": "execute_result"
    }
   ],
   "source": [
    "len(big) + len(small)"
   ]
  },
  {
   "cell_type": "code",
   "execution_count": 32,
   "id": "6d6a55d0",
   "metadata": {},
   "outputs": [],
   "source": [
    "# Reduce to only needed columns\n",
    "\n",
    "df_2 = small[['orders_day_of_week','prices']]"
   ]
  },
  {
   "cell_type": "code",
   "execution_count": 34,
   "id": "33c2c68c",
   "metadata": {},
   "outputs": [
    {
     "data": {
      "image/png": "[encoded data removed]",
      "text/plain": [
       "<Figure size 432x288 with 1 Axes>"
      ]
     },
     "metadata": {
      "needs_background": "light"
     },
     "output_type": "display_data"
    }
   ],
   "source": [
    "# Create line chart\n",
    "\n",
    "line = sns.lineplot(data = df_2, x = 'orders_day_of_week',y = 'prices')"
   ]
  },
  {
   "cell_type": "code",
   "execution_count": null,
   "id": "f14891ca",
   "metadata": {},
   "outputs": [],
   "source": []
  }
 ],
 "metadata": {
  "kernelspec": {
   "display_name": "Python 3 (ipykernel)",
   "language": "python",
   "name": "python3"
  },
  "language_info": {
   "codemirror_mode": {
    "name": "ipython",
    "version": 3
   },
   "file_extension": ".py",
   "mimetype": "text/x-python",
   "name": "python",
   "nbconvert_exporter": "python",
   "pygments_lexer": "ipython3",
   "version": "3.9.7"
  }
 },
 "nbformat": 4,
 "nbformat_minor": 5
}
